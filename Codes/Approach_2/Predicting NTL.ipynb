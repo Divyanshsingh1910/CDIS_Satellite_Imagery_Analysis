{
  "nbformat": 4,
  "nbformat_minor": 0,
  "metadata": {
    "colab": {
      "provenance": [],
      "gpuType": "T4"
    },
    "kernelspec": {
      "name": "python3",
      "display_name": "Python 3"
    },
    "language_info": {
      "name": "python"
    },
    "accelerator": "GPU"
  },
  "cells": [
    {
      "cell_type": "code",
      "execution_count": 1,
      "metadata": {
        "id": "Y0JWCTAfIZ1B"
      },
      "outputs": [],
      "source": [
        "import pandas as pd"
      ]
    },
    {
      "cell_type": "code",
      "source": [
        "df = pd.read_csv('/content/final_output.csv')"
      ],
      "metadata": {
        "id": "uFMG9H3IIkQ8"
      },
      "execution_count": 2,
      "outputs": []
    },
    {
      "cell_type": "code",
      "source": [
        "df.describe()"
      ],
      "metadata": {
        "colab": {
          "base_uri": "https://localhost:8080/",
          "height": 349
        },
        "id": "HNS_0e6kJALU",
        "outputId": "5ca86108-6c04-4382-b9c5-4d9bcb1555cb"
      },
      "execution_count": 3,
      "outputs": [
        {
          "output_type": "execute_result",
          "data": {
            "text/plain": [
              "          Latitude    Longitude    Feature_1    Feature_3    Feature_8  \\\n",
              "count  4500.000000  4500.000000  4500.000000  4500.000000  4500.000000   \n",
              "mean     29.339154    76.687366     0.000677     0.071368     0.015955   \n",
              "std       0.869346     0.585965     0.009612     0.146439     0.053754   \n",
              "min      27.729250    74.547000     0.000000     0.000000     0.000000   \n",
              "25%      28.511159    76.428625     0.000000     0.000000     0.000000   \n",
              "50%      29.435002    76.840500     0.000000     0.000000     0.000000   \n",
              "75%      30.097066    77.095929     0.000000     0.026883     0.000000   \n",
              "max      30.913515    77.533710     0.150657     0.766327     0.608131   \n",
              "\n",
              "        Feature_18   Feature_27   Feature_28   Feature_31   Feature_35  ...  \\\n",
              "count  4500.000000  4500.000000  4500.000000  4500.000000  4500.000000  ...   \n",
              "mean      0.496802     0.031878     0.000086     0.001315     0.006411  ...   \n",
              "std       0.460610     0.088518     0.001538     0.014194     0.034234  ...   \n",
              "min       0.000000     0.000000     0.000000     0.000000     0.000000  ...   \n",
              "25%       0.176153     0.000000     0.000000     0.000000     0.000000  ...   \n",
              "50%       0.382912     0.000000     0.000000     0.000000     0.000000  ...   \n",
              "75%       0.681840     0.000000     0.000000     0.000000     0.000000  ...   \n",
              "max       2.320614     0.793441     0.032959     0.257145     0.427289  ...   \n",
              "\n",
              "       hospitals_1  hospitals_2  hospitals_3     school_1     school_2  \\\n",
              "count  4500.000000  4500.000000  4500.000000  4500.000000  4500.000000   \n",
              "mean      6.679088     9.214127    10.719264    19.126971    24.945345   \n",
              "std       3.636810     4.273836     4.825548    12.423253    12.874071   \n",
              "min       0.031268     0.203532     0.203532     0.115340     2.329952   \n",
              "25%       3.892504     6.113899     7.086589     9.997603    15.623440   \n",
              "50%       6.388946     9.429240    11.234334    16.772891    22.376469   \n",
              "75%       9.286375    12.342217    14.465019    24.821402    33.084444   \n",
              "max      22.814318    23.071465    23.282265    61.455376    67.616075   \n",
              "\n",
              "          school_3  restaurant_1  restaurant_2  restaurant_3  Closest_NTL  \n",
              "count  4500.000000   4500.000000   4500.000000   4500.000000  4497.000000  \n",
              "mean     31.441974     16.445141     21.766880     25.120127    88.729153  \n",
              "std      15.164264     11.485260     13.196421     14.279802    84.819733  \n",
              "min       3.093729      0.132564      0.394199      0.394199     7.000000  \n",
              "25%      19.756825      7.711796     12.288639     14.899818    25.000000  \n",
              "50%      28.318681     14.447216     19.666029     23.751148    43.000000  \n",
              "75%      42.773855     22.737973     27.646301     32.289575   149.000000  \n",
              "max      79.698706     68.031473     73.130936     85.866495   255.000000  \n",
              "\n",
              "[8 rows x 621 columns]"
            ],
            "text/html": [
              "\n",
              "  <div id=\"df-bc3e57fa-d318-448f-bcde-c2ab19256ab3\" class=\"colab-df-container\">\n",
              "    <div>\n",
              "<style scoped>\n",
              "    .dataframe tbody tr th:only-of-type {\n",
              "        vertical-align: middle;\n",
              "    }\n",
              "\n",
              "    .dataframe tbody tr th {\n",
              "        vertical-align: top;\n",
              "    }\n",
              "\n",
              "    .dataframe thead th {\n",
              "        text-align: right;\n",
              "    }\n",
              "</style>\n",
              "<table border=\"1\" class=\"dataframe\">\n",
              "  <thead>\n",
              "    <tr style=\"text-align: right;\">\n",
              "      <th></th>\n",
              "      <th>Latitude</th>\n",
              "      <th>Longitude</th>\n",
              "      <th>Feature_1</th>\n",
              "      <th>Feature_3</th>\n",
              "      <th>Feature_8</th>\n",
              "      <th>Feature_18</th>\n",
              "      <th>Feature_27</th>\n",
              "      <th>Feature_28</th>\n",
              "      <th>Feature_31</th>\n",
              "      <th>Feature_35</th>\n",
              "      <th>...</th>\n",
              "      <th>hospitals_1</th>\n",
              "      <th>hospitals_2</th>\n",
              "      <th>hospitals_3</th>\n",
              "      <th>school_1</th>\n",
              "      <th>school_2</th>\n",
              "      <th>school_3</th>\n",
              "      <th>restaurant_1</th>\n",
              "      <th>restaurant_2</th>\n",
              "      <th>restaurant_3</th>\n",
              "      <th>Closest_NTL</th>\n",
              "    </tr>\n",
              "  </thead>\n",
              "  <tbody>\n",
              "    <tr>\n",
              "      <th>count</th>\n",
              "      <td>4500.000000</td>\n",
              "      <td>4500.000000</td>\n",
              "      <td>4500.000000</td>\n",
              "      <td>4500.000000</td>\n",
              "      <td>4500.000000</td>\n",
              "      <td>4500.000000</td>\n",
              "      <td>4500.000000</td>\n",
              "      <td>4500.000000</td>\n",
              "      <td>4500.000000</td>\n",
              "      <td>4500.000000</td>\n",
              "      <td>...</td>\n",
              "      <td>4500.000000</td>\n",
              "      <td>4500.000000</td>\n",
              "      <td>4500.000000</td>\n",
              "      <td>4500.000000</td>\n",
              "      <td>4500.000000</td>\n",
              "      <td>4500.000000</td>\n",
              "      <td>4500.000000</td>\n",
              "      <td>4500.000000</td>\n",
              "      <td>4500.000000</td>\n",
              "      <td>4497.000000</td>\n",
              "    </tr>\n",
              "    <tr>\n",
              "      <th>mean</th>\n",
              "      <td>29.339154</td>\n",
              "      <td>76.687366</td>\n",
              "      <td>0.000677</td>\n",
              "      <td>0.071368</td>\n",
              "      <td>0.015955</td>\n",
              "      <td>0.496802</td>\n",
              "      <td>0.031878</td>\n",
              "      <td>0.000086</td>\n",
              "      <td>0.001315</td>\n",
              "      <td>0.006411</td>\n",
              "      <td>...</td>\n",
              "      <td>6.679088</td>\n",
              "      <td>9.214127</td>\n",
              "      <td>10.719264</td>\n",
              "      <td>19.126971</td>\n",
              "      <td>24.945345</td>\n",
              "      <td>31.441974</td>\n",
              "      <td>16.445141</td>\n",
              "      <td>21.766880</td>\n",
              "      <td>25.120127</td>\n",
              "      <td>88.729153</td>\n",
              "    </tr>\n",
              "    <tr>\n",
              "      <th>std</th>\n",
              "      <td>0.869346</td>\n",
              "      <td>0.585965</td>\n",
              "      <td>0.009612</td>\n",
              "      <td>0.146439</td>\n",
              "      <td>0.053754</td>\n",
              "      <td>0.460610</td>\n",
              "      <td>0.088518</td>\n",
              "      <td>0.001538</td>\n",
              "      <td>0.014194</td>\n",
              "      <td>0.034234</td>\n",
              "      <td>...</td>\n",
              "      <td>3.636810</td>\n",
              "      <td>4.273836</td>\n",
              "      <td>4.825548</td>\n",
              "      <td>12.423253</td>\n",
              "      <td>12.874071</td>\n",
              "      <td>15.164264</td>\n",
              "      <td>11.485260</td>\n",
              "      <td>13.196421</td>\n",
              "      <td>14.279802</td>\n",
              "      <td>84.819733</td>\n",
              "    </tr>\n",
              "    <tr>\n",
              "      <th>min</th>\n",
              "      <td>27.729250</td>\n",
              "      <td>74.547000</td>\n",
              "      <td>0.000000</td>\n",
              "      <td>0.000000</td>\n",
              "      <td>0.000000</td>\n",
              "      <td>0.000000</td>\n",
              "      <td>0.000000</td>\n",
              "      <td>0.000000</td>\n",
              "      <td>0.000000</td>\n",
              "      <td>0.000000</td>\n",
              "      <td>...</td>\n",
              "      <td>0.031268</td>\n",
              "      <td>0.203532</td>\n",
              "      <td>0.203532</td>\n",
              "      <td>0.115340</td>\n",
              "      <td>2.329952</td>\n",
              "      <td>3.093729</td>\n",
              "      <td>0.132564</td>\n",
              "      <td>0.394199</td>\n",
              "      <td>0.394199</td>\n",
              "      <td>7.000000</td>\n",
              "    </tr>\n",
              "    <tr>\n",
              "      <th>25%</th>\n",
              "      <td>28.511159</td>\n",
              "      <td>76.428625</td>\n",
              "      <td>0.000000</td>\n",
              "      <td>0.000000</td>\n",
              "      <td>0.000000</td>\n",
              "      <td>0.176153</td>\n",
              "      <td>0.000000</td>\n",
              "      <td>0.000000</td>\n",
              "      <td>0.000000</td>\n",
              "      <td>0.000000</td>\n",
              "      <td>...</td>\n",
              "      <td>3.892504</td>\n",
              "      <td>6.113899</td>\n",
              "      <td>7.086589</td>\n",
              "      <td>9.997603</td>\n",
              "      <td>15.623440</td>\n",
              "      <td>19.756825</td>\n",
              "      <td>7.711796</td>\n",
              "      <td>12.288639</td>\n",
              "      <td>14.899818</td>\n",
              "      <td>25.000000</td>\n",
              "    </tr>\n",
              "    <tr>\n",
              "      <th>50%</th>\n",
              "      <td>29.435002</td>\n",
              "      <td>76.840500</td>\n",
              "      <td>0.000000</td>\n",
              "      <td>0.000000</td>\n",
              "      <td>0.000000</td>\n",
              "      <td>0.382912</td>\n",
              "      <td>0.000000</td>\n",
              "      <td>0.000000</td>\n",
              "      <td>0.000000</td>\n",
              "      <td>0.000000</td>\n",
              "      <td>...</td>\n",
              "      <td>6.388946</td>\n",
              "      <td>9.429240</td>\n",
              "      <td>11.234334</td>\n",
              "      <td>16.772891</td>\n",
              "      <td>22.376469</td>\n",
              "      <td>28.318681</td>\n",
              "      <td>14.447216</td>\n",
              "      <td>19.666029</td>\n",
              "      <td>23.751148</td>\n",
              "      <td>43.000000</td>\n",
              "    </tr>\n",
              "    <tr>\n",
              "      <th>75%</th>\n",
              "      <td>30.097066</td>\n",
              "      <td>77.095929</td>\n",
              "      <td>0.000000</td>\n",
              "      <td>0.026883</td>\n",
              "      <td>0.000000</td>\n",
              "      <td>0.681840</td>\n",
              "      <td>0.000000</td>\n",
              "      <td>0.000000</td>\n",
              "      <td>0.000000</td>\n",
              "      <td>0.000000</td>\n",
              "      <td>...</td>\n",
              "      <td>9.286375</td>\n",
              "      <td>12.342217</td>\n",
              "      <td>14.465019</td>\n",
              "      <td>24.821402</td>\n",
              "      <td>33.084444</td>\n",
              "      <td>42.773855</td>\n",
              "      <td>22.737973</td>\n",
              "      <td>27.646301</td>\n",
              "      <td>32.289575</td>\n",
              "      <td>149.000000</td>\n",
              "    </tr>\n",
              "    <tr>\n",
              "      <th>max</th>\n",
              "      <td>30.913515</td>\n",
              "      <td>77.533710</td>\n",
              "      <td>0.150657</td>\n",
              "      <td>0.766327</td>\n",
              "      <td>0.608131</td>\n",
              "      <td>2.320614</td>\n",
              "      <td>0.793441</td>\n",
              "      <td>0.032959</td>\n",
              "      <td>0.257145</td>\n",
              "      <td>0.427289</td>\n",
              "      <td>...</td>\n",
              "      <td>22.814318</td>\n",
              "      <td>23.071465</td>\n",
              "      <td>23.282265</td>\n",
              "      <td>61.455376</td>\n",
              "      <td>67.616075</td>\n",
              "      <td>79.698706</td>\n",
              "      <td>68.031473</td>\n",
              "      <td>73.130936</td>\n",
              "      <td>85.866495</td>\n",
              "      <td>255.000000</td>\n",
              "    </tr>\n",
              "  </tbody>\n",
              "</table>\n",
              "<p>8 rows × 621 columns</p>\n",
              "</div>\n",
              "    <div class=\"colab-df-buttons\">\n",
              "\n",
              "  <div class=\"colab-df-container\">\n",
              "    <button class=\"colab-df-convert\" onclick=\"convertToInteractive('df-bc3e57fa-d318-448f-bcde-c2ab19256ab3')\"\n",
              "            title=\"Convert this dataframe to an interactive table.\"\n",
              "            style=\"display:none;\">\n",
              "\n",
              "  <svg xmlns=\"http://www.w3.org/2000/svg\" height=\"24px\" viewBox=\"0 -960 960 960\">\n",
              "    <path d=\"M120-120v-720h720v720H120Zm60-500h600v-160H180v160Zm220 220h160v-160H400v160Zm0 220h160v-160H400v160ZM180-400h160v-160H180v160Zm440 0h160v-160H620v160ZM180-180h160v-160H180v160Zm440 0h160v-160H620v160Z\"/>\n",
              "  </svg>\n",
              "    </button>\n",
              "\n",
              "  <style>\n",
              "    .colab-df-container {\n",
              "      display:flex;\n",
              "      gap: 12px;\n",
              "    }\n",
              "\n",
              "    .colab-df-convert {\n",
              "      background-color: #E8F0FE;\n",
              "      border: none;\n",
              "      border-radius: 50%;\n",
              "      cursor: pointer;\n",
              "      display: none;\n",
              "      fill: #1967D2;\n",
              "      height: 32px;\n",
              "      padding: 0 0 0 0;\n",
              "      width: 32px;\n",
              "    }\n",
              "\n",
              "    .colab-df-convert:hover {\n",
              "      background-color: #E2EBFA;\n",
              "      box-shadow: 0px 1px 2px rgba(60, 64, 67, 0.3), 0px 1px 3px 1px rgba(60, 64, 67, 0.15);\n",
              "      fill: #174EA6;\n",
              "    }\n",
              "\n",
              "    .colab-df-buttons div {\n",
              "      margin-bottom: 4px;\n",
              "    }\n",
              "\n",
              "    [theme=dark] .colab-df-convert {\n",
              "      background-color: #3B4455;\n",
              "      fill: #D2E3FC;\n",
              "    }\n",
              "\n",
              "    [theme=dark] .colab-df-convert:hover {\n",
              "      background-color: #434B5C;\n",
              "      box-shadow: 0px 1px 3px 1px rgba(0, 0, 0, 0.15);\n",
              "      filter: drop-shadow(0px 1px 2px rgba(0, 0, 0, 0.3));\n",
              "      fill: #FFFFFF;\n",
              "    }\n",
              "  </style>\n",
              "\n",
              "    <script>\n",
              "      const buttonEl =\n",
              "        document.querySelector('#df-bc3e57fa-d318-448f-bcde-c2ab19256ab3 button.colab-df-convert');\n",
              "      buttonEl.style.display =\n",
              "        google.colab.kernel.accessAllowed ? 'block' : 'none';\n",
              "\n",
              "      async function convertToInteractive(key) {\n",
              "        const element = document.querySelector('#df-bc3e57fa-d318-448f-bcde-c2ab19256ab3');\n",
              "        const dataTable =\n",
              "          await google.colab.kernel.invokeFunction('convertToInteractive',\n",
              "                                                    [key], {});\n",
              "        if (!dataTable) return;\n",
              "\n",
              "        const docLinkHtml = 'Like what you see? Visit the ' +\n",
              "          '<a target=\"_blank\" href=https://colab.research.google.com/notebooks/data_table.ipynb>data table notebook</a>'\n",
              "          + ' to learn more about interactive tables.';\n",
              "        element.innerHTML = '';\n",
              "        dataTable['output_type'] = 'display_data';\n",
              "        await google.colab.output.renderOutput(dataTable, element);\n",
              "        const docLink = document.createElement('div');\n",
              "        docLink.innerHTML = docLinkHtml;\n",
              "        element.appendChild(docLink);\n",
              "      }\n",
              "    </script>\n",
              "  </div>\n",
              "\n",
              "\n",
              "<div id=\"df-16e571aa-2d82-49c9-b886-b8d8fdbde6c1\">\n",
              "  <button class=\"colab-df-quickchart\" onclick=\"quickchart('df-16e571aa-2d82-49c9-b886-b8d8fdbde6c1')\"\n",
              "            title=\"Suggest charts.\"\n",
              "            style=\"display:none;\">\n",
              "\n",
              "<svg xmlns=\"http://www.w3.org/2000/svg\" height=\"24px\"viewBox=\"0 0 24 24\"\n",
              "     width=\"24px\">\n",
              "    <g>\n",
              "        <path d=\"M19 3H5c-1.1 0-2 .9-2 2v14c0 1.1.9 2 2 2h14c1.1 0 2-.9 2-2V5c0-1.1-.9-2-2-2zM9 17H7v-7h2v7zm4 0h-2V7h2v10zm4 0h-2v-4h2v4z\"/>\n",
              "    </g>\n",
              "</svg>\n",
              "  </button>\n",
              "\n",
              "<style>\n",
              "  .colab-df-quickchart {\n",
              "      --bg-color: #E8F0FE;\n",
              "      --fill-color: #1967D2;\n",
              "      --hover-bg-color: #E2EBFA;\n",
              "      --hover-fill-color: #174EA6;\n",
              "      --disabled-fill-color: #AAA;\n",
              "      --disabled-bg-color: #DDD;\n",
              "  }\n",
              "\n",
              "  [theme=dark] .colab-df-quickchart {\n",
              "      --bg-color: #3B4455;\n",
              "      --fill-color: #D2E3FC;\n",
              "      --hover-bg-color: #434B5C;\n",
              "      --hover-fill-color: #FFFFFF;\n",
              "      --disabled-bg-color: #3B4455;\n",
              "      --disabled-fill-color: #666;\n",
              "  }\n",
              "\n",
              "  .colab-df-quickchart {\n",
              "    background-color: var(--bg-color);\n",
              "    border: none;\n",
              "    border-radius: 50%;\n",
              "    cursor: pointer;\n",
              "    display: none;\n",
              "    fill: var(--fill-color);\n",
              "    height: 32px;\n",
              "    padding: 0;\n",
              "    width: 32px;\n",
              "  }\n",
              "\n",
              "  .colab-df-quickchart:hover {\n",
              "    background-color: var(--hover-bg-color);\n",
              "    box-shadow: 0 1px 2px rgba(60, 64, 67, 0.3), 0 1px 3px 1px rgba(60, 64, 67, 0.15);\n",
              "    fill: var(--button-hover-fill-color);\n",
              "  }\n",
              "\n",
              "  .colab-df-quickchart-complete:disabled,\n",
              "  .colab-df-quickchart-complete:disabled:hover {\n",
              "    background-color: var(--disabled-bg-color);\n",
              "    fill: var(--disabled-fill-color);\n",
              "    box-shadow: none;\n",
              "  }\n",
              "\n",
              "  .colab-df-spinner {\n",
              "    border: 2px solid var(--fill-color);\n",
              "    border-color: transparent;\n",
              "    border-bottom-color: var(--fill-color);\n",
              "    animation:\n",
              "      spin 1s steps(1) infinite;\n",
              "  }\n",
              "\n",
              "  @keyframes spin {\n",
              "    0% {\n",
              "      border-color: transparent;\n",
              "      border-bottom-color: var(--fill-color);\n",
              "      border-left-color: var(--fill-color);\n",
              "    }\n",
              "    20% {\n",
              "      border-color: transparent;\n",
              "      border-left-color: var(--fill-color);\n",
              "      border-top-color: var(--fill-color);\n",
              "    }\n",
              "    30% {\n",
              "      border-color: transparent;\n",
              "      border-left-color: var(--fill-color);\n",
              "      border-top-color: var(--fill-color);\n",
              "      border-right-color: var(--fill-color);\n",
              "    }\n",
              "    40% {\n",
              "      border-color: transparent;\n",
              "      border-right-color: var(--fill-color);\n",
              "      border-top-color: var(--fill-color);\n",
              "    }\n",
              "    60% {\n",
              "      border-color: transparent;\n",
              "      border-right-color: var(--fill-color);\n",
              "    }\n",
              "    80% {\n",
              "      border-color: transparent;\n",
              "      border-right-color: var(--fill-color);\n",
              "      border-bottom-color: var(--fill-color);\n",
              "    }\n",
              "    90% {\n",
              "      border-color: transparent;\n",
              "      border-bottom-color: var(--fill-color);\n",
              "    }\n",
              "  }\n",
              "</style>\n",
              "\n",
              "  <script>\n",
              "    async function quickchart(key) {\n",
              "      const quickchartButtonEl =\n",
              "        document.querySelector('#' + key + ' button');\n",
              "      quickchartButtonEl.disabled = true;  // To prevent multiple clicks.\n",
              "      quickchartButtonEl.classList.add('colab-df-spinner');\n",
              "      try {\n",
              "        const charts = await google.colab.kernel.invokeFunction(\n",
              "            'suggestCharts', [key], {});\n",
              "      } catch (error) {\n",
              "        console.error('Error during call to suggestCharts:', error);\n",
              "      }\n",
              "      quickchartButtonEl.classList.remove('colab-df-spinner');\n",
              "      quickchartButtonEl.classList.add('colab-df-quickchart-complete');\n",
              "    }\n",
              "    (() => {\n",
              "      let quickchartButtonEl =\n",
              "        document.querySelector('#df-16e571aa-2d82-49c9-b886-b8d8fdbde6c1 button');\n",
              "      quickchartButtonEl.style.display =\n",
              "        google.colab.kernel.accessAllowed ? 'block' : 'none';\n",
              "    })();\n",
              "  </script>\n",
              "</div>\n",
              "    </div>\n",
              "  </div>\n"
            ]
          },
          "metadata": {},
          "execution_count": 3
        }
      ]
    },
    {
      "cell_type": "code",
      "source": [
        "df.info()"
      ],
      "metadata": {
        "colab": {
          "base_uri": "https://localhost:8080/"
        },
        "id": "YqauYJvrNMz7",
        "outputId": "b015ab41-3eec-4fed-e885-7186fff7ff76"
      },
      "execution_count": 4,
      "outputs": [
        {
          "output_type": "stream",
          "name": "stdout",
          "text": [
            "<class 'pandas.core.frame.DataFrame'>\n",
            "RangeIndex: 4500 entries, 0 to 4499\n",
            "Columns: 624 entries, Image to Closest_NTL\n",
            "dtypes: float64(621), object(3)\n",
            "memory usage: 21.4+ MB\n"
          ]
        }
      ]
    },
    {
      "cell_type": "code",
      "source": [
        "from sklearn.model_selection import train_test_split\n",
        "from sklearn.metrics import accuracy_score, classification_report\n",
        "from sklearn.metrics import r2_score, mean_absolute_error"
      ],
      "metadata": {
        "id": "xel7E76-ItG3"
      },
      "execution_count": 5,
      "outputs": []
    },
    {
      "cell_type": "code",
      "source": [
        "columns_to_drop = ['Latitude','Longitude','Image Name','Predicted Class','Image']\n",
        "df = df.drop(columns=columns_to_drop)\n",
        "df.fillna(0, inplace=True)"
      ],
      "metadata": {
        "id": "MipI47IeMwmH"
      },
      "execution_count": 6,
      "outputs": []
    },
    {
      "cell_type": "code",
      "source": [
        "df.columns"
      ],
      "metadata": {
        "colab": {
          "base_uri": "https://localhost:8080/"
        },
        "id": "bF1hhKlIODfc",
        "outputId": "5a089f31-80ff-49f6-dbfe-82f7727be003"
      },
      "execution_count": 7,
      "outputs": [
        {
          "output_type": "execute_result",
          "data": {
            "text/plain": [
              "Index(['Feature_1', 'Feature_3', 'Feature_8', 'Feature_18', 'Feature_27',\n",
              "       'Feature_28', 'Feature_31', 'Feature_35', 'Feature_43', 'Feature_46',\n",
              "       ...\n",
              "       'hospitals_1', 'hospitals_2', 'hospitals_3', 'school_1', 'school_2',\n",
              "       'school_3', 'restaurant_1', 'restaurant_2', 'restaurant_3',\n",
              "       'Closest_NTL'],\n",
              "      dtype='object', length=619)"
            ]
          },
          "metadata": {},
          "execution_count": 7
        }
      ]
    },
    {
      "cell_type": "code",
      "source": [
        "target_column = 'Closest_NTL'"
      ],
      "metadata": {
        "id": "tvi5nZAQI4T0"
      },
      "execution_count": 8,
      "outputs": []
    },
    {
      "cell_type": "code",
      "source": [
        "X = df.drop(columns=[target_column])\n",
        "y = df[target_column]"
      ],
      "metadata": {
        "id": "czHDp_-FJKi0"
      },
      "execution_count": 9,
      "outputs": []
    },
    {
      "cell_type": "code",
      "source": [
        "X_train, X_test, y_train, y_test = train_test_split(X, y, test_size=0.2, random_state=42)"
      ],
      "metadata": {
        "id": "KgZDvuMkJM7y"
      },
      "execution_count": 10,
      "outputs": []
    },
    {
      "cell_type": "code",
      "source": [
        "from sklearn.linear_model import LinearRegression\n",
        "lr = LinearRegression()\n",
        "lr.fit(X_train, y_train)\n",
        "y_lr_predict = lr.predict(X_test)\n",
        "\n",
        "from sklearn.metrics import r2_score, mean_absolute_error\n",
        "r2_lr = r2_score(y_test, y_lr_predict)\n",
        "print(f'R2 Score: {r2_lr}')\n",
        "mae_lr = mean_absolute_error(y_test, y_lr_predict)\n",
        "print(f'Mean Absolute Error (MAE): {mae_lr}')"
      ],
      "metadata": {
        "colab": {
          "base_uri": "https://localhost:8080/"
        },
        "id": "8TIbdgIYJZD4",
        "outputId": "48786e0c-2a4c-451d-9a0d-2b45e3ed7aea"
      },
      "execution_count": 11,
      "outputs": [
        {
          "output_type": "stream",
          "name": "stdout",
          "text": [
            "R2 Score: 0.7059672935012262\n",
            "Mean Absolute Error (MAE): 30.881371919157107\n"
          ]
        }
      ]
    },
    {
      "cell_type": "code",
      "source": [
        "from sklearn.ensemble import RandomForestRegressor\n",
        "rfc = RandomForestRegressor()\n",
        "rfc.fit(X_train, y_train)\n",
        "y_rfc_predict = rfc.predict(X_test)\n",
        "\n",
        "r2_rfc = r2_score(y_test, y_rfc_predict)\n",
        "print(f'R2 Score: {r2_rfc}')\n",
        "mae_rfc = mean_absolute_error(y_test, y_rfc_predict)\n",
        "print(f'Mean Absolute Error (MAE): {mae_rfc}')"
      ],
      "metadata": {
        "colab": {
          "base_uri": "https://localhost:8080/"
        },
        "id": "151mPrdfMl5k",
        "outputId": "de210979-d20c-4b20-8741-aa09b0dbaf47"
      },
      "execution_count": 12,
      "outputs": [
        {
          "output_type": "stream",
          "name": "stdout",
          "text": [
            "R2 Score: 0.8843008600276574\n",
            "Mean Absolute Error (MAE): 13.706477777777778\n"
          ]
        }
      ]
    },
    {
      "cell_type": "code",
      "source": [
        "from sklearn.linear_model import LassoCV\n",
        "\n",
        "alphas = [10**-25,0.001, 0.01, 0.1, 1.0, 10.0]  # List of alpha values to test\n",
        "lasso_cv = LassoCV(alphas=alphas, cv=5)\n",
        "\n",
        "# Fit the model to your training data\n",
        "lasso_cv.fit(X_train, y_train)\n",
        "\n",
        "# Find the best alpha value using cross-validation\n",
        "best_alpha = lasso_cv.alpha_\n",
        "print(f\"Best alpha: {best_alpha}\")\n",
        "\n",
        "# Make predictions on the test data using the best alpha\n",
        "y_lasoo_pred = lasso_cv.predict(X_test)\n",
        "\n",
        "# Evaluate the model\n",
        "r2_lasoo = r2_score(y_test, y_lasoo_pred)\n",
        "print(f'R2 Score: {r2_lasoo}')\n",
        "mae_lasoo = mean_absolute_error(y_test, y_lasoo_pred)\n",
        "print(f'Mean Absolute Error (MAE): {mae_lasoo}')"
      ],
      "metadata": {
        "colab": {
          "base_uri": "https://localhost:8080/"
        },
        "id": "XnLADUGvbbAW",
        "outputId": "1b18321b-9d5d-4101-bc8c-cc4f71508add"
      },
      "execution_count": 13,
      "outputs": [
        {
          "output_type": "stream",
          "name": "stderr",
          "text": [
            "/usr/local/lib/python3.10/dist-packages/sklearn/linear_model/_coordinate_descent.py:617: ConvergenceWarning: Objective did not converge. You might want to increase the number of iterations. Duality gap: 333822.00482963584, tolerance: 2089.2855631944435\n",
            "  model = cd_fast.enet_coordinate_descent_gram(\n",
            "/usr/local/lib/python3.10/dist-packages/sklearn/linear_model/_coordinate_descent.py:617: ConvergenceWarning: Objective did not converge. You might want to increase the number of iterations. Duality gap: 3545303.3654277353, tolerance: 2089.2855631944435\n",
            "  model = cd_fast.enet_coordinate_descent_gram(\n",
            "/usr/local/lib/python3.10/dist-packages/sklearn/linear_model/_coordinate_descent.py:617: ConvergenceWarning: Objective did not converge. You might want to increase the number of iterations. Duality gap: 3276936.9124730146, tolerance: 2089.2855631944435\n",
            "  model = cd_fast.enet_coordinate_descent_gram(\n",
            "/usr/local/lib/python3.10/dist-packages/sklearn/linear_model/_coordinate_descent.py:617: ConvergenceWarning: Objective did not converge. You might want to increase the number of iterations. Duality gap: 3000717.015268283, tolerance: 2089.2855631944435\n",
            "  model = cd_fast.enet_coordinate_descent_gram(\n",
            "/usr/local/lib/python3.10/dist-packages/sklearn/linear_model/_coordinate_descent.py:617: ConvergenceWarning: Objective did not converge. You might want to increase the number of iterations. Duality gap: 352247.20437068306, tolerance: 2084.7597107986126\n",
            "  model = cd_fast.enet_coordinate_descent_gram(\n",
            "/usr/local/lib/python3.10/dist-packages/sklearn/linear_model/_coordinate_descent.py:617: ConvergenceWarning: Objective did not converge. You might want to increase the number of iterations. Duality gap: 3363883.4456336014, tolerance: 2084.7597107986126\n",
            "  model = cd_fast.enet_coordinate_descent_gram(\n",
            "/usr/local/lib/python3.10/dist-packages/sklearn/linear_model/_coordinate_descent.py:617: ConvergenceWarning: Objective did not converge. You might want to increase the number of iterations. Duality gap: 3146842.7519346196, tolerance: 2084.7597107986126\n",
            "  model = cd_fast.enet_coordinate_descent_gram(\n",
            "/usr/local/lib/python3.10/dist-packages/sklearn/linear_model/_coordinate_descent.py:617: ConvergenceWarning: Objective did not converge. You might want to increase the number of iterations. Duality gap: 2871597.2014376502, tolerance: 2084.7597107986126\n",
            "  model = cd_fast.enet_coordinate_descent_gram(\n",
            "/usr/local/lib/python3.10/dist-packages/sklearn/linear_model/_coordinate_descent.py:617: ConvergenceWarning: Objective did not converge. You might want to increase the number of iterations. Duality gap: 264801.76269458514, tolerance: 2098.754883194445\n",
            "  model = cd_fast.enet_coordinate_descent_gram(\n",
            "/usr/local/lib/python3.10/dist-packages/sklearn/linear_model/_coordinate_descent.py:617: ConvergenceWarning: Objective did not converge. You might want to increase the number of iterations. Duality gap: 3512344.119429119, tolerance: 2098.754883194445\n",
            "  model = cd_fast.enet_coordinate_descent_gram(\n",
            "/usr/local/lib/python3.10/dist-packages/sklearn/linear_model/_coordinate_descent.py:617: ConvergenceWarning: Objective did not converge. You might want to increase the number of iterations. Duality gap: 3289213.191496335, tolerance: 2098.754883194445\n",
            "  model = cd_fast.enet_coordinate_descent_gram(\n",
            "/usr/local/lib/python3.10/dist-packages/sklearn/linear_model/_coordinate_descent.py:617: ConvergenceWarning: Objective did not converge. You might want to increase the number of iterations. Duality gap: 3016470.095695939, tolerance: 2098.754883194445\n",
            "  model = cd_fast.enet_coordinate_descent_gram(\n",
            "/usr/local/lib/python3.10/dist-packages/sklearn/linear_model/_coordinate_descent.py:617: ConvergenceWarning: Objective did not converge. You might want to increase the number of iterations. Duality gap: 403474.67322363704, tolerance: 2053.7951416319447\n",
            "  model = cd_fast.enet_coordinate_descent_gram(\n",
            "/usr/local/lib/python3.10/dist-packages/sklearn/linear_model/_coordinate_descent.py:617: ConvergenceWarning: Objective did not converge. You might want to increase the number of iterations. Duality gap: 3491017.985844266, tolerance: 2053.7951416319447\n",
            "  model = cd_fast.enet_coordinate_descent_gram(\n",
            "/usr/local/lib/python3.10/dist-packages/sklearn/linear_model/_coordinate_descent.py:617: ConvergenceWarning: Objective did not converge. You might want to increase the number of iterations. Duality gap: 3223056.203786215, tolerance: 2053.7951416319447\n",
            "  model = cd_fast.enet_coordinate_descent_gram(\n",
            "/usr/local/lib/python3.10/dist-packages/sklearn/linear_model/_coordinate_descent.py:617: ConvergenceWarning: Objective did not converge. You might want to increase the number of iterations. Duality gap: 2943929.3279737085, tolerance: 2053.7951416319447\n",
            "  model = cd_fast.enet_coordinate_descent_gram(\n",
            "/usr/local/lib/python3.10/dist-packages/sklearn/linear_model/_coordinate_descent.py:617: ConvergenceWarning: Objective did not converge. You might want to increase the number of iterations. Duality gap: 432443.49148200545, tolerance: 2138.796248750001\n",
            "  model = cd_fast.enet_coordinate_descent_gram(\n",
            "/usr/local/lib/python3.10/dist-packages/sklearn/linear_model/_coordinate_descent.py:617: ConvergenceWarning: Objective did not converge. You might want to increase the number of iterations. Duality gap: 3474391.625083155, tolerance: 2138.796248750001\n",
            "  model = cd_fast.enet_coordinate_descent_gram(\n",
            "/usr/local/lib/python3.10/dist-packages/sklearn/linear_model/_coordinate_descent.py:617: ConvergenceWarning: Objective did not converge. You might want to increase the number of iterations. Duality gap: 3228593.417495018, tolerance: 2138.796248750001\n",
            "  model = cd_fast.enet_coordinate_descent_gram(\n",
            "/usr/local/lib/python3.10/dist-packages/sklearn/linear_model/_coordinate_descent.py:617: ConvergenceWarning: Objective did not converge. You might want to increase the number of iterations. Duality gap: 2979167.9404278155, tolerance: 2138.796248750001\n",
            "  model = cd_fast.enet_coordinate_descent_gram(\n"
          ]
        },
        {
          "output_type": "stream",
          "name": "stdout",
          "text": [
            "Best alpha: 1e-25\n",
            "R2 Score: 0.6569408666171535\n",
            "Mean Absolute Error (MAE): 35.769656788815944\n"
          ]
        },
        {
          "output_type": "stream",
          "name": "stderr",
          "text": [
            "/usr/local/lib/python3.10/dist-packages/sklearn/linear_model/_coordinate_descent.py:631: ConvergenceWarning: Objective did not converge. You might want to increase the number of iterations, check the scale of the features or consider increasing regularisation. Duality gap: 3.914e+06, tolerance: 2.617e+03 Linear regression models with null weight for the l1 regularization term are more efficiently fitted using one of the solvers implemented in sklearn.linear_model.Ridge/RidgeCV instead.\n",
            "  model = cd_fast.enet_coordinate_descent(\n"
          ]
        }
      ]
    },
    {
      "cell_type": "code",
      "source": [
        "from sklearn.linear_model import Ridge\n",
        "from sklearn.model_selection import GridSearchCV\n",
        "model2 = Ridge()\n",
        "alphas = [10**-25,0.1,0.5,5,6,8,10**1,10**2,10**3,10**4]\n",
        "param_grid = {'alpha': alphas}\n",
        "grid_search = GridSearchCV(model2, param_grid, cv=5)\n",
        "grid_search.fit(X_train, y_train)\n",
        "best_alpha = grid_search.best_params_['alpha']\n",
        "print(best_alpha)\n",
        "rid = Ridge(alpha=best_alpha)\n",
        "rid.fit(X_train, y_train)\n",
        "y_rid_predict = rid.predict(X_test)\n",
        "r2_rid = r2_score(y_test, y_rid_predict)\n",
        "print(f'R2 Score: {r2_rid}')\n",
        "mae_rid = mean_absolute_error(y_test, y_rid_predict)\n",
        "print(f'Mean Absolute Error (MAE): {mae_rid}')"
      ],
      "metadata": {
        "colab": {
          "base_uri": "https://localhost:8080/"
        },
        "id": "hJbNTqBAdbq4",
        "outputId": "a249de3b-3d87-4647-992b-ee6873e73336"
      },
      "execution_count": 14,
      "outputs": [
        {
          "output_type": "stream",
          "name": "stdout",
          "text": [
            "1e-25\n",
            "R2 Score: 0.7058518854436946\n",
            "Mean Absolute Error (MAE): 31.12363658203252\n"
          ]
        }
      ]
    },
    {
      "cell_type": "code",
      "source": [
        "from sklearn.svm import SVR\n",
        "from sklearn.model_selection import train_test_split, GridSearchCV\n",
        "\n",
        "# Define the parameter grid for SVR hyperparameters\n",
        "#param_grid_svr = {\n",
        " #   'kernel': ['linear', 'rbf'],  # Kernel types to test\n",
        "  #'C': [0.1, 1.0, 10.0],       # Regularization parameter\n",
        " #   'epsilon': [0.01, 0.1, 1.0]  # Epsilon parameter\n",
        "#}\n",
        "\n",
        "# Create an SVR model\n",
        "#svr = SVR()\n",
        "\n",
        "# Perform hyperparameter optimization using GridSearchCV\n",
        "#grid_search_svr = GridSearchCV(svr, param_grid=param_grid_svr, scoring='neg_mean_squared_error', cv=5)\n",
        "#grid_search_svr.fit(X_train, y_train)\n",
        "\n",
        "# Get the best hyperparameters\n",
        "#best_params_svr = grid_search_svr.best_params_\n",
        "#print(\"Best Hyperparameters:\")\n",
        "#print(f\"Kernel: {best_params_svr['kernel']}\")\n",
        "#print(f\"C: {best_params_svr['C']}\")\n",
        "#print(f\"Epsilon: {best_params_svr['epsilon']}\")\n",
        "\n",
        "# Make predictions on the test data using the best model\n",
        "#y_svr_pred = grid_search_svr.predict(X_test)\n",
        "\n",
        "#r2_svr = r2_score(y_test, y_svr_predict)\n",
        "#print(f'R2 Score: {r2_svr}')\n",
        "#mae_svr = mean_absolute_error(y_test, y_svr_predict)\n",
        "#print(f'Mean Absolute Error (MAE): {mae_svr}')\n"
      ],
      "metadata": {
        "id": "7znrpSYmidsx"
      },
      "execution_count": 15,
      "outputs": []
    },
    {
      "cell_type": "code",
      "source": [
        "from sklearn.gaussian_process import GaussianProcessRegressor\n",
        "from sklearn.gaussian_process.kernels import RBF, ConstantKernel as C\n",
        "from sklearn.model_selection import GridSearchCV, KFold\n",
        "\n",
        "\n",
        "\n",
        "# Define the kernel to optimize\n",
        "#kernel = C(1.0, (1e-3, 1e3)) * RBF(1.0, (1e-2, 1e2))\n",
        "\n",
        "# Create the Gaussian Process Regressor model\n",
        "#gpr = GaussianProcessRegressor(kernel=kernel)\n",
        "\n",
        "# Define the hyperparameter grid to search over\n",
        "#param_dist = {\n",
        "  #  \"kernel__k1__constant_value\": [0.1, 1.0],\n",
        " #   \"kernel__k2__length_scale\": [0.1, 1.0]\n",
        "#}\n",
        "\n",
        "# Create a GridSearchCV object with cross-validation\n",
        "#cv = KFold(n_splits=5, shuffle=True, random_state=0)  # Adjust the number of splits as needed\n",
        "#grid_search = GridSearchCV(gpr, param_grid=param_grid, cv=cv, scoring='neg_mean_squared_error')\n",
        "\n",
        "# Fit the grid search to your data\n",
        "#grid_search.fit(X, y)\n",
        "\n",
        "# Get the best model and hyperparameters\n",
        "#best_gpr = grid_search.best_estimator_\n",
        "#best_params = grid_search.best_params_\n",
        "\n",
        "# Make predictions with the best model (you can use these predictions for plotting)\n",
        "#y_gpr_pred, sigma = best_gpr.predict(X, return_std=True)\n",
        "\n",
        "# Print the best hyperparameters\n",
        "#print(\"Best Hyperparameters:\", best_params)\n",
        "\n",
        "#r2_gpr = r2_score(y_test, y_gpr_predict)\n",
        "#print(f'R2 Score: {r2_gpr}')\n",
        "#mae_gpr = mean_absolute_error(y_test, y_gpr_predict)\n",
        "#print(f'Mean Absolute Error (MAE): {mae_gpr}')"
      ],
      "metadata": {
        "id": "nyE8bDaOVyUG"
      },
      "execution_count": 16,
      "outputs": []
    },
    {
      "cell_type": "code",
      "source": [
        "import matplotlib.pyplot as plt\n",
        "import seaborn as sns\n",
        "%matplotlib inline"
      ],
      "metadata": {
        "id": "DYnxp8k2TUCE"
      },
      "execution_count": 17,
      "outputs": []
    },
    {
      "cell_type": "code",
      "source": [
        "Model_Names=['LinearRegression','RandomForestRegressor','Lassoo','Ridge']\n",
        "MAE = [30.881371919157107,13.706477777777778,35.769656788815944,31.12363658203252]\n",
        "data = {'Model':Model_Names,'MAE':MAE}\n",
        "df2 = pd.DataFrame(data)\n",
        "sns.set(style=\"darkgrid\")\n",
        "plt.figure(figsize=(8, 6))\n",
        "sns.barplot(x='Model', y='MAE', data=df2, palette='viridis')\n",
        "plt.ylim([0,50])\n",
        "plt.xlabel('Models')\n",
        "plt.ylabel('MAE')\n",
        "plt.title('Comparison of MAE for Different Models')\n",
        "plt.show()"
      ],
      "metadata": {
        "colab": {
          "base_uri": "https://localhost:8080/",
          "height": 573
        },
        "id": "mVXjhiDVSHiv",
        "outputId": "4eef4bd4-a599-4805-f127-aa48ab9a44d0"
      },
      "execution_count": 25,
      "outputs": [
        {
          "output_type": "display_data",
          "data": {
            "text/plain": [
              "<Figure size 800x600 with 1 Axes>"
            ],
            "image/png": "[encoded data removed]"
          },
          "metadata": {}
        }
      ]
    },
    {
      "cell_type": "code",
      "source": [
        "R2 = [0.7059672935012262,0.8878020700222183,0.6569408666171535,0.7058518854436946]\n",
        "data = {'Model':Model_Names,'R2':R2}\n",
        "df3 = pd.DataFrame(data)\n",
        "sns.set(style=\"darkgrid\")\n",
        "plt.figure(figsize=(8, 6))\n",
        "sns.barplot(x='Model', y='R2', data=df3, palette='viridis')\n",
        "plt.ylim([0, +1])\n",
        "plt.xlabel('Models')\n",
        "plt.ylabel('R2')\n",
        "plt.title('Comparison of R2 for Different Models')\n",
        "plt.show()"
      ],
      "metadata": {
        "colab": {
          "base_uri": "https://localhost:8080/",
          "height": 573
        },
        "id": "OB5cv8XoTp2F",
        "outputId": "496e667f-8ad4-4dca-8f3f-5a646976c2e3"
      },
      "execution_count": 24,
      "outputs": [
        {
          "output_type": "display_data",
          "data": {
            "text/plain": [
              "<Figure size 800x600 with 1 Axes>"
            ],
            "image/png": "[encoded data removed]"
          },
          "metadata": {}
        }
      ]
    },
    {
      "cell_type": "code",
      "source": [],
      "metadata": {
        "id": "rGQsmY2ITVDC"
      },
      "execution_count": 19,
      "outputs": []
    }
  ]
}