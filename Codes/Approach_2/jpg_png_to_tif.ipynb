{
  "nbformat": 4,
  "nbformat_minor": 0,
  "metadata": {
    "colab": {
      "provenance": []
    },
    "kernelspec": {
      "name": "python3",
      "display_name": "Python 3"
    },
    "language_info": {
      "name": "python"
    }
  },
  "cells": [
    {
      "cell_type": "code",
      "source": [
        "#to convert jpg/ png images to tiff"
      ],
      "metadata": {
        "id": "EGOY792e374r"
      },
      "execution_count": null,
      "outputs": []
    },
    {
      "cell_type": "code",
      "execution_count": null,
      "metadata": {
        "id": "jP8n1W-U3JEg"
      },
      "outputs": [],
      "source": [
        "from google.colab import drive\n",
        "drive.mount('/content/drive')"
      ]
    },
    {
      "cell_type": "code",
      "source": [
        "input_folder = '/content/drive/MyDrive/masks_128x128'\n",
        "output_folder = '/content/drive/MyDrive/masks_tiff'"
      ],
      "metadata": {
        "id": "GjvDw5Lw332D"
      },
      "execution_count": null,
      "outputs": []
    },
    {
      "cell_type": "code",
      "source": [
        "import os\n",
        "\n",
        "if not os.path.exists(output_folder):\n",
        "    os.makedirs(output_folder)\n",
        "\n",
        "from PIL import Image\n",
        "\n",
        "for filename in os.listdir(input_folder):\n",
        "    if filename.endswith('.jpg'):  #png if images are in png format\n",
        "        image_path = os.path.join(input_folder, filename)\n",
        "        img = Image.open(image_path)\n",
        "\n",
        "        # Replace .jpg extension with .tif for the output file\n",
        "        output_path = os.path.join(output_folder, os.path.splitext(filename)[0] + '.tif')\n",
        "\n",
        "        # Save the image in TIFF format\n",
        "        img.save(output_path, format=\"TIFF\")\n",
        "\n",
        "print(\"Conversion to TIFF completed.\")"
      ],
      "metadata": {
        "id": "dCDo4cyf31Wd"
      },
      "execution_count": null,
      "outputs": []
    }
  ]
}