{
  "nbformat": 4,
  "nbformat_minor": 0,
  "metadata": {
    "colab": {
      "provenance": []
    },
    "kernelspec": {
      "name": "python3",
      "display_name": "Python 3"
    },
    "language_info": {
      "name": "python"
    }
  },
  "cells": [
    {
      "cell_type": "code",
      "source": [
        "#to convert 2448x2448 images to 128x128 and save in jpg form"
      ],
      "metadata": {
        "id": "FraSxT3C4A38"
      },
      "execution_count": null,
      "outputs": []
    },
    {
      "cell_type": "code",
      "execution_count": null,
      "metadata": {
        "id": "gBrbRQ8o3ShE"
      },
      "outputs": [],
      "source": [
        "from google.colab import drive\n",
        "drive.mount('/content/drive')\n",
        "\n",
        "import cv2\n",
        "import os\n"
      ]
    },
    {
      "cell_type": "code",
      "source": [
        "input_folder = '/content/drive/MyDrive/masks'\n",
        "output_folder = '/content/drive/MyDrive/masks_128x128'"
      ],
      "metadata": {
        "id": "hLgMB1yg3eoa"
      },
      "execution_count": null,
      "outputs": []
    },
    {
      "cell_type": "code",
      "source": [
        "def patchify(image, patch_size):\n",
        "    height, width, channels = image.shape\n",
        "    patch_height, patch_width = patch_size\n",
        "\n",
        "    patches = []\n",
        "\n",
        "    for y in range(0, height, patch_height):\n",
        "        for x in range(0, width, patch_width):\n",
        "            patch = image[y:y+patch_height, x:x+patch_width]\n",
        "            patches.append(patch)\n",
        "\n",
        "    return patches\n",
        "\n",
        "# Output folder to save the patches\n",
        "if not os.path.exists(output_folder):\n",
        "    os.makedirs(output_folder)\n",
        "\n",
        "# Specify the patch size (128x128 pixels)\n",
        "patch_size = (128, 128)\n",
        "\n",
        "# Loop through the images in the input folder\n",
        "for filename in os.listdir(input_folder):\n",
        "    if filename.endswith('.jpg'):\n",
        "        image_path = os.path.join(input_folder, filename)\n",
        "        image = cv2.imread(image_path)\n",
        "\n",
        "        # Patchify the image\n",
        "        patches = patchify(image, patch_size)\n",
        "\n",
        "        # Save the patches in the output folder\n",
        "        base_name = os.path.splitext(filename)[0]\n",
        "        for i, patch in enumerate(patches):\n",
        "            patch_filename = f'{base_name}_patch_{i}.jpg'\n",
        "            patch_path = os.path.join(output_folder, patch_filename)\n",
        "            cv2.imwrite(patch_path, patch)"
      ],
      "metadata": {
        "id": "FztxV57R3f_3"
      },
      "execution_count": null,
      "outputs": []
    }
  ]
}