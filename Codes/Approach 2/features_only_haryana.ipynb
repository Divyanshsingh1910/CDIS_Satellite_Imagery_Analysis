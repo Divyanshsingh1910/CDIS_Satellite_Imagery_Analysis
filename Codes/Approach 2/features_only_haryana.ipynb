{
  "nbformat": 4,
  "nbformat_minor": 0,
  "metadata": {
    "colab": {
      "provenance": []
    },
    "kernelspec": {
      "name": "python3",
      "display_name": "Python 3"
    },
    "language_info": {
      "name": "python"
    }
  },
  "cells": [
    {
      "cell_type": "code",
      "execution_count": null,
      "metadata": {
        "colab": {
          "base_uri": "https://localhost:8080/"
        },
        "id": "om5aGwlzKbtS",
        "outputId": "96f41101-6b67-4f5c-f938-ca0f03b68747"
      },
      "outputs": [
        {
          "output_type": "stream",
          "name": "stdout",
          "text": [
            "Filtered data saved to /content/natural_only_haryana.csv\n"
          ]
        }
      ],
      "source": [
        "import csv\n",
        "import json\n",
        "from shapely.geometry import shape, Point\n",
        "\n",
        "# Load GeoJSON data for Haryana\n",
        "with open('/content/HARYANA_STATE.geojson', 'r') as geojson_file:\n",
        "    haryana_data = json.load(geojson_file)\n",
        "    haryana_boundary = shape(haryana_data['features'][0]['geometry'])\n",
        "\n",
        "# Read the CSV file\n",
        "csv_file_path = '/content/NATURAL.csv'\n",
        "filtered_rows = []\n",
        "\n",
        "with open(csv_file_path, 'r') as csvfile:\n",
        "    reader = csv.DictReader(csvfile)\n",
        "    for row in reader:\n",
        "        # Extract latitude and longitude from the CSV row\n",
        "        latitude = float(row['Y-COORD'])\n",
        "        longitude = float(row['X-COORD'])\n",
        "# Check if the latitude and longitude fall inside Haryana\n",
        "        point = Point(longitude, latitude)\n",
        "        if haryana_boundary.contains(point):\n",
        "            filtered_rows.append(row)\n",
        "\n",
        "# Write the filtered rows to a new CSV file in /kaggle/working/\n",
        "output_csv_path = '/content/natural_only_haryana.csv'  # Changed output path\n",
        "fieldnames = reader.fieldnames\n",
        "with open(output_csv_path, 'w', newline='') as outfile:\n",
        "    writer = csv.DictWriter(outfile, fieldnames=fieldnames)\n",
        "    writer.writeheader()\n",
        "    writer.writerows(filtered_rows)\n",
        "\n",
        "print('Filtered data saved to', output_csv_path)"
      ]
    },
    {
      "cell_type": "code",
      "source": [],
      "metadata": {
        "colab": {
          "base_uri": "https://localhost:8080/"
        },
        "id": "7rkmQXvGLqbm",
        "outputId": "1accf888-02ff-4583-896d-713b435c6044"
      },
      "execution_count": null,
      "outputs": [
        {
          "output_type": "stream",
          "name": "stdout",
          "text": [
            "Filtered data saved to /content/transport_only_har.csv\n"
          ]
        }
      ]
    }
  ]
}