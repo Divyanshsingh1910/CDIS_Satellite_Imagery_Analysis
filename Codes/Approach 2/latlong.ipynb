{
 "cells": [
  {
   "cell_type": "code",
   "execution_count": 1,
   "metadata": {},
   "outputs": [
    {
     "name": "stdout",
     "output_type": "stream",
     "text": [
      "Collecting geopy\n",
      "  Downloading geopy-2.4.0-py3-none-any.whl (125 kB)\n",
      "     -------------------------------------- 125.4/125.4 kB 2.5 MB/s eta 0:00:00\n",
      "Collecting geographiclib<3,>=1.52\n",
      "  Downloading geographiclib-2.0-py3-none-any.whl (40 kB)\n",
      "     ---------------------------------------- 40.3/40.3 kB 2.0 MB/s eta 0:00:00\n",
      "Installing collected packages: geographiclib, geopy\n",
      "Successfully installed geographiclib-2.0 geopy-2.4.0\n",
      "Note: you may need to restart the kernel to use updated packages.\n"
     ]
    }
   ],
   "source": [
    "pip install geopy"
   ]
  },
  {
   "cell_type": "code",
   "execution_count": 2,
   "metadata": {},
   "outputs": [],
   "source": [
    "from geopy.geocoders import Nominatim"
   ]
  },
  {
   "cell_type": "code",
   "execution_count": 3,
   "metadata": {},
   "outputs": [],
   "source": [
    "import csv"
   ]
  },
  {
   "cell_type": "code",
   "execution_count": 5,
   "metadata": {},
   "outputs": [
    {
     "ename": "GeocoderInsufficientPrivileges",
     "evalue": "Non-successful status code 403",
     "output_type": "error",
     "traceback": [
      "\u001b[1;31m---------------------------------------------------------------------------\u001b[0m",
      "\u001b[1;31mAdapterHTTPError\u001b[0m                          Traceback (most recent call last)",
      "File \u001b[1;32mc:\\Users\\Trijal Srivastava\\Downloads\\anaconda3new\\lib\\site-packages\\geopy\\geocoders\\base.py:368\u001b[0m, in \u001b[0;36mGeocoder._call_geocoder\u001b[1;34m(self, url, callback, timeout, is_json, headers)\u001b[0m\n\u001b[0;32m    367\u001b[0m \u001b[39mif\u001b[39;00m is_json:\n\u001b[1;32m--> 368\u001b[0m     result \u001b[39m=\u001b[39m \u001b[39mself\u001b[39;49m\u001b[39m.\u001b[39;49madapter\u001b[39m.\u001b[39;49mget_json(url, timeout\u001b[39m=\u001b[39;49mtimeout, headers\u001b[39m=\u001b[39;49mreq_headers)\n\u001b[0;32m    369\u001b[0m \u001b[39melse\u001b[39;00m:\n",
      "File \u001b[1;32mc:\\Users\\Trijal Srivastava\\Downloads\\anaconda3new\\lib\\site-packages\\geopy\\adapters.py:472\u001b[0m, in \u001b[0;36mRequestsAdapter.get_json\u001b[1;34m(self, url, timeout, headers)\u001b[0m\n\u001b[0;32m    471\u001b[0m \u001b[39mdef\u001b[39;00m \u001b[39mget_json\u001b[39m(\u001b[39mself\u001b[39m, url, \u001b[39m*\u001b[39m, timeout, headers):\n\u001b[1;32m--> 472\u001b[0m     resp \u001b[39m=\u001b[39m \u001b[39mself\u001b[39;49m\u001b[39m.\u001b[39;49m_request(url, timeout\u001b[39m=\u001b[39;49mtimeout, headers\u001b[39m=\u001b[39;49mheaders)\n\u001b[0;32m    473\u001b[0m     \u001b[39mtry\u001b[39;00m:\n",
      "File \u001b[1;32mc:\\Users\\Trijal Srivastava\\Downloads\\anaconda3new\\lib\\site-packages\\geopy\\adapters.py:500\u001b[0m, in \u001b[0;36mRequestsAdapter._request\u001b[1;34m(self, url, timeout, headers)\u001b[0m\n\u001b[0;32m    499\u001b[0m     \u001b[39mif\u001b[39;00m resp\u001b[39m.\u001b[39mstatus_code \u001b[39m>\u001b[39m\u001b[39m=\u001b[39m \u001b[39m400\u001b[39m:\n\u001b[1;32m--> 500\u001b[0m         \u001b[39mraise\u001b[39;00m AdapterHTTPError(\n\u001b[0;32m    501\u001b[0m             \u001b[39m\"\u001b[39m\u001b[39mNon-successful status code \u001b[39m\u001b[39m%s\u001b[39;00m\u001b[39m\"\u001b[39m \u001b[39m%\u001b[39m resp\u001b[39m.\u001b[39mstatus_code,\n\u001b[0;32m    502\u001b[0m             status_code\u001b[39m=\u001b[39mresp\u001b[39m.\u001b[39mstatus_code,\n\u001b[0;32m    503\u001b[0m             headers\u001b[39m=\u001b[39mresp\u001b[39m.\u001b[39mheaders,\n\u001b[0;32m    504\u001b[0m             text\u001b[39m=\u001b[39mresp\u001b[39m.\u001b[39mtext,\n\u001b[0;32m    505\u001b[0m         )\n\u001b[0;32m    507\u001b[0m \u001b[39mreturn\u001b[39;00m resp\n",
      "\u001b[1;31mAdapterHTTPError\u001b[0m: Non-successful status code 403",
      "\nThe above exception was the direct cause of the following exception:\n",
      "\u001b[1;31mGeocoderInsufficientPrivileges\u001b[0m            Traceback (most recent call last)",
      "Cell \u001b[1;32mIn[5], line 29\u001b[0m\n\u001b[0;32m     26\u001b[0m     \u001b[39mreturn\u001b[39;00m coordinates\n\u001b[0;32m     28\u001b[0m state \u001b[39m=\u001b[39m \u001b[39m\"\u001b[39m\u001b[39mHaryana\u001b[39m\u001b[39m\"\u001b[39m\n\u001b[1;32m---> 29\u001b[0m coordinates \u001b[39m=\u001b[39m get_all_cities_lat_long(state)\n\u001b[0;32m     31\u001b[0m \u001b[39m# Write data to CSV file\u001b[39;00m\n\u001b[0;32m     32\u001b[0m \u001b[39mwith\u001b[39;00m \u001b[39mopen\u001b[39m(\u001b[39m'\u001b[39m\u001b[39mcity_coordinates.csv\u001b[39m\u001b[39m'\u001b[39m, mode\u001b[39m=\u001b[39m\u001b[39m'\u001b[39m\u001b[39mw\u001b[39m\u001b[39m'\u001b[39m, newline\u001b[39m=\u001b[39m\u001b[39m'\u001b[39m\u001b[39m'\u001b[39m) \u001b[39mas\u001b[39;00m file:\n",
      "Cell \u001b[1;32mIn[5], line 22\u001b[0m, in \u001b[0;36mget_all_cities_lat_long\u001b[1;34m(state)\u001b[0m\n\u001b[0;32m     19\u001b[0m coordinates \u001b[39m=\u001b[39m []\n\u001b[0;32m     21\u001b[0m \u001b[39mfor\u001b[39;00m city \u001b[39min\u001b[39;00m cities:\n\u001b[1;32m---> 22\u001b[0m     location \u001b[39m=\u001b[39m get_lat_long(city, state)\n\u001b[0;32m     23\u001b[0m     \u001b[39mif\u001b[39;00m location:\n\u001b[0;32m     24\u001b[0m         coordinates\u001b[39m.\u001b[39mappend((city, location[\u001b[39m0\u001b[39m], location[\u001b[39m1\u001b[39m]))\n",
      "Cell \u001b[1;32mIn[5], line 3\u001b[0m, in \u001b[0;36mget_lat_long\u001b[1;34m(city, state)\u001b[0m\n\u001b[0;32m      1\u001b[0m \u001b[39mdef\u001b[39;00m \u001b[39mget_lat_long\u001b[39m(city, state):\n\u001b[0;32m      2\u001b[0m     geolocator \u001b[39m=\u001b[39m Nominatim(user_agent\u001b[39m=\u001b[39m\u001b[39m\"\u001b[39m\u001b[39mgeoapiExercises\u001b[39m\u001b[39m\"\u001b[39m)\n\u001b[1;32m----> 3\u001b[0m     location \u001b[39m=\u001b[39m geolocator\u001b[39m.\u001b[39;49mgeocode(\u001b[39mf\u001b[39;49m\u001b[39m\"\u001b[39;49m\u001b[39m{\u001b[39;49;00mcity\u001b[39m}\u001b[39;49;00m\u001b[39m, \u001b[39;49m\u001b[39m{\u001b[39;49;00mstate\u001b[39m}\u001b[39;49;00m\u001b[39m\"\u001b[39;49m)\n\u001b[0;32m      4\u001b[0m     \u001b[39mif\u001b[39;00m location:\n\u001b[0;32m      5\u001b[0m         \u001b[39mreturn\u001b[39;00m (location\u001b[39m.\u001b[39mlatitude, location\u001b[39m.\u001b[39mlongitude)\n",
      "File \u001b[1;32mc:\\Users\\Trijal Srivastava\\Downloads\\anaconda3new\\lib\\site-packages\\geopy\\geocoders\\nominatim.py:297\u001b[0m, in \u001b[0;36mNominatim.geocode\u001b[1;34m(self, query, exactly_one, timeout, limit, addressdetails, language, geometry, extratags, country_codes, viewbox, bounded, featuretype, namedetails)\u001b[0m\n\u001b[0;32m    295\u001b[0m logger\u001b[39m.\u001b[39mdebug(\u001b[39m\"\u001b[39m\u001b[39m%s\u001b[39;00m\u001b[39m.geocode: \u001b[39m\u001b[39m%s\u001b[39;00m\u001b[39m\"\u001b[39m, \u001b[39mself\u001b[39m\u001b[39m.\u001b[39m\u001b[39m__class__\u001b[39m\u001b[39m.\u001b[39m\u001b[39m__name__\u001b[39m, url)\n\u001b[0;32m    296\u001b[0m callback \u001b[39m=\u001b[39m partial(\u001b[39mself\u001b[39m\u001b[39m.\u001b[39m_parse_json, exactly_one\u001b[39m=\u001b[39mexactly_one)\n\u001b[1;32m--> 297\u001b[0m \u001b[39mreturn\u001b[39;00m \u001b[39mself\u001b[39;49m\u001b[39m.\u001b[39;49m_call_geocoder(url, callback, timeout\u001b[39m=\u001b[39;49mtimeout)\n",
      "File \u001b[1;32mc:\\Users\\Trijal Srivastava\\Downloads\\anaconda3new\\lib\\site-packages\\geopy\\geocoders\\base.py:388\u001b[0m, in \u001b[0;36mGeocoder._call_geocoder\u001b[1;34m(self, url, callback, timeout, is_json, headers)\u001b[0m\n\u001b[0;32m    386\u001b[0m         \u001b[39mreturn\u001b[39;00m callback(result)\n\u001b[0;32m    387\u001b[0m \u001b[39mexcept\u001b[39;00m \u001b[39mException\u001b[39;00m \u001b[39mas\u001b[39;00m error:\n\u001b[1;32m--> 388\u001b[0m     res \u001b[39m=\u001b[39m \u001b[39mself\u001b[39;49m\u001b[39m.\u001b[39;49m_adapter_error_handler(error)\n\u001b[0;32m    389\u001b[0m     \u001b[39mif\u001b[39;00m res \u001b[39mis\u001b[39;00m NONE_RESULT:\n\u001b[0;32m    390\u001b[0m         \u001b[39mreturn\u001b[39;00m \u001b[39mNone\u001b[39;00m\n",
      "File \u001b[1;32mc:\\Users\\Trijal Srivastava\\Downloads\\anaconda3new\\lib\\site-packages\\geopy\\geocoders\\base.py:411\u001b[0m, in \u001b[0;36mGeocoder._adapter_error_handler\u001b[1;34m(self, error)\u001b[0m\n\u001b[0;32m    407\u001b[0m         \u001b[39mraise\u001b[39;00m exc_cls(\n\u001b[0;32m    408\u001b[0m             \u001b[39mstr\u001b[39m(error), retry_after\u001b[39m=\u001b[39mget_retry_after(error\u001b[39m.\u001b[39mheaders)\n\u001b[0;32m    409\u001b[0m         ) \u001b[39mfrom\u001b[39;00m \u001b[39merror\u001b[39;00m\n\u001b[0;32m    410\u001b[0m     \u001b[39melse\u001b[39;00m:\n\u001b[1;32m--> 411\u001b[0m         \u001b[39mraise\u001b[39;00m exc_cls(\u001b[39mstr\u001b[39m(error)) \u001b[39mfrom\u001b[39;00m \u001b[39merror\u001b[39;00m\n\u001b[0;32m    412\u001b[0m \u001b[39melse\u001b[39;00m:\n\u001b[0;32m    413\u001b[0m     res \u001b[39m=\u001b[39m \u001b[39mself\u001b[39m\u001b[39m.\u001b[39m_geocoder_exception_handler(error)\n",
      "\u001b[1;31mGeocoderInsufficientPrivileges\u001b[0m: Non-successful status code 403"
     ]
    }
   ],
   "source": [
    "def get_lat_long(city, state):\n",
    "    geolocator = Nominatim(user_agent=\"geoapiExercises\")\n",
    "    location = geolocator.geocode(f\"{city}, {state}\")\n",
    "    if location:\n",
    "        return (location.latitude, location.longitude)\n",
    "    else:\n",
    "        return None\n",
    "\n",
    "def get_all_cities_lat_long(state):\n",
    "    cities = [\n",
    "        \"Hisar\"\n",
    "        \"Rohtak\"\n",
    "        \"Panipat\"\n",
    "        \"Faridabad\"\n",
    "        \"Gurgaon\"\n",
    "\n",
    "    ]\n",
    "\n",
    "    coordinates = []\n",
    "\n",
    "    for city in cities:\n",
    "        location = get_lat_long(city, state)\n",
    "        if location:\n",
    "            coordinates.append((city, location[0], location[1]))\n",
    "\n",
    "    return coordinates\n",
    "\n",
    "state = \"Haryana\"\n",
    "coordinates = get_all_cities_lat_long(state)\n",
    "\n",
    "# Write data to CSV file\n",
    "with open('city_coordinates.csv', mode='w', newline='') as file:\n",
    "    writer = csv.writer(file)\n",
    "    writer.writerow(['City', 'Latitude', 'Longitude'])  # Write header\n",
    "    writer.writerows(coordinates)  # Write data\n",
    "\n",
    "print(\"Data written to city_coordinates.csv\")\n"
   ]
  },
  {
   "cell_type": "code",
   "execution_count": null,
   "metadata": {},
   "outputs": [],
   "source": []
  }
 ],
 "metadata": {
  "kernelspec": {
   "display_name": "Python 3",
   "language": "python",
   "name": "python3"
  },
  "language_info": {
   "codemirror_mode": {
    "name": "ipython",
    "version": 3
   },
   "file_extension": ".py",
   "mimetype": "text/x-python",
   "name": "python",
   "nbconvert_exporter": "python",
   "pygments_lexer": "ipython3",
   "version": "3.10.9"
  },
  "orig_nbformat": 4
 },
 "nbformat": 4,
 "nbformat_minor": 2
}
