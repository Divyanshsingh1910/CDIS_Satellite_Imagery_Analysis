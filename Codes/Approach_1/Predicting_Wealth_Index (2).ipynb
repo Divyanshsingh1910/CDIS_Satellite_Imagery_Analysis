{
  "cells": [
    {
      "cell_type": "code",
      "execution_count": null,
      "metadata": {
        "id": "Y0JWCTAfIZ1B"
      },
      "outputs": [],
      "source": [
        "import pandas as pd"
      ]
    },
    {
      "cell_type": "code",
      "execution_count": null,
      "metadata": {
        "id": "uFMG9H3IIkQ8"
      },
      "outputs": [],
      "source": [
        "df = pd.read_csv('/content/output.csv')"
      ]
    },
    {
      "cell_type": "code",
      "execution_count": null,
      "metadata": {
        "colab": {
          "base_uri": "https://localhost:8080/",
          "height": 349
        },
        "id": "HNS_0e6kJALU",
        "outputId": "f0b636ea-bb5c-4551-bf71-a9ef0ada4b56"
      },
      "outputs": [
        {
          "output_type": "execute_result",
          "data": {
            "text/plain": [
              "       Predicted_Class  Feature_22    Feature_56  Feature_69  Feature_102  \\\n",
              "count       819.000000  819.000000    819.000000  819.000000   819.000000   \n",
              "mean          4.461538    0.258189    290.537898    1.081933     6.023036   \n",
              "std           1.956601    1.898143   1313.237913    4.481433    13.747985   \n",
              "min           0.000000    0.000000      0.000000    0.000000     0.000000   \n",
              "25%           4.000000    0.000000      0.000000    0.000000     0.000000   \n",
              "50%           4.000000    0.000000      0.000000    0.000000     0.000000   \n",
              "75%           7.000000    0.000000      0.000000    0.000000     2.805982   \n",
              "max           9.000000   22.989107  13258.975000   40.768215   100.064450   \n",
              "\n",
              "       Feature_401  Feature_750  Feature_781  Feature_823  Feature_878  ...  \\\n",
              "count   819.000000   819.000000   819.000000   819.000000   819.000000  ...   \n",
              "mean      1.137498     1.616660     0.075505     1.416166     0.623636  ...   \n",
              "std       5.425827     6.217538     0.619560     6.799742     2.802664  ...   \n",
              "min       0.000000     0.000000     0.000000     0.000000     0.000000  ...   \n",
              "25%       0.000000     0.000000     0.000000     0.000000     0.000000  ...   \n",
              "50%       0.000000     0.000000     0.000000     0.000000     0.000000  ...   \n",
              "75%       0.000000     0.000000     0.000000     0.000000     0.000000  ...   \n",
              "max      50.669228    58.837770     8.174302    74.214874    27.555414  ...   \n",
              "\n",
              "       Feature_1335  Feature_1341  Feature_1410  Feature_1479  Feature_1596  \\\n",
              "count    819.000000    819.000000    819.000000    819.000000    819.000000   \n",
              "mean       1.358614      1.000538      0.032768    585.957173     14.783561   \n",
              "std        3.564073      6.936090      0.262249   1746.068634     24.839508   \n",
              "min        0.000000      0.000000      0.000000      0.000000      0.000000   \n",
              "25%        0.000000      0.000000      0.000000      0.000000      0.000000   \n",
              "50%        0.000000      0.000000      0.000000      0.000000      0.000000   \n",
              "75%        0.000000      0.000000      0.000000      0.000000     22.612581   \n",
              "max       26.899849    116.023155      3.759387  12429.187000    161.267040   \n",
              "\n",
              "       Feature_1597  Feature_1599  Feature_1738         lum     Y_Label  \n",
              "count    819.000000    819.000000    819.000000  819.000000  819.000000  \n",
              "mean       0.035620     26.690028      0.089721   45.091823   -0.335469  \n",
              "std        0.288630     37.657436      0.582963   11.791725    0.085466  \n",
              "min        0.000000      0.000000      0.000000   19.696515   -0.882000  \n",
              "25%        0.000000      0.000000      0.000000   36.554656   -0.335469  \n",
              "50%        0.000000      5.766258      0.000000   44.399056   -0.335469  \n",
              "75%        0.000000     44.634642      0.000000   53.548223   -0.335469  \n",
              "max        4.422004    199.366260      7.333979   82.541527    1.095000  \n",
              "\n",
              "[8 rows x 25 columns]"
            ],
            "text/html": [
              "\n",
              "  <div id=\"df-bbe7602f-389d-4bb0-954f-16db1e03b385\" class=\"colab-df-container\">\n",
              "    <div>\n",
              "<style scoped>\n",
              "    .dataframe tbody tr th:only-of-type {\n",
              "        vertical-align: middle;\n",
              "    }\n",
              "\n",
              "    .dataframe tbody tr th {\n",
              "        vertical-align: top;\n",
              "    }\n",
              "\n",
              "    .dataframe thead th {\n",
              "        text-align: right;\n",
              "    }\n",
              "</style>\n",
              "<table border=\"1\" class=\"dataframe\">\n",
              "  <thead>\n",
              "    <tr style=\"text-align: right;\">\n",
              "      <th></th>\n",
              "      <th>Predicted_Class</th>\n",
              "      <th>Feature_22</th>\n",
              "      <th>Feature_56</th>\n",
              "      <th>Feature_69</th>\n",
              "      <th>Feature_102</th>\n",
              "      <th>Feature_401</th>\n",
              "      <th>Feature_750</th>\n",
              "      <th>Feature_781</th>\n",
              "      <th>Feature_823</th>\n",
              "      <th>Feature_878</th>\n",
              "      <th>...</th>\n",
              "      <th>Feature_1335</th>\n",
              "      <th>Feature_1341</th>\n",
              "      <th>Feature_1410</th>\n",
              "      <th>Feature_1479</th>\n",
              "      <th>Feature_1596</th>\n",
              "      <th>Feature_1597</th>\n",
              "      <th>Feature_1599</th>\n",
              "      <th>Feature_1738</th>\n",
              "      <th>lum</th>\n",
              "      <th>Y_Label</th>\n",
              "    </tr>\n",
              "  </thead>\n",
              "  <tbody>\n",
              "    <tr>\n",
              "      <th>count</th>\n",
              "      <td>819.000000</td>\n",
              "      <td>819.000000</td>\n",
              "      <td>819.000000</td>\n",
              "      <td>819.000000</td>\n",
              "      <td>819.000000</td>\n",
              "      <td>819.000000</td>\n",
              "      <td>819.000000</td>\n",
              "      <td>819.000000</td>\n",
              "      <td>819.000000</td>\n",
              "      <td>819.000000</td>\n",
              "      <td>...</td>\n",
              "      <td>819.000000</td>\n",
              "      <td>819.000000</td>\n",
              "      <td>819.000000</td>\n",
              "      <td>819.000000</td>\n",
              "      <td>819.000000</td>\n",
              "      <td>819.000000</td>\n",
              "      <td>819.000000</td>\n",
              "      <td>819.000000</td>\n",
              "      <td>819.000000</td>\n",
              "      <td>819.000000</td>\n",
              "    </tr>\n",
              "    <tr>\n",
              "      <th>mean</th>\n",
              "      <td>4.461538</td>\n",
              "      <td>0.258189</td>\n",
              "      <td>290.537898</td>\n",
              "      <td>1.081933</td>\n",
              "      <td>6.023036</td>\n",
              "      <td>1.137498</td>\n",
              "      <td>1.616660</td>\n",
              "      <td>0.075505</td>\n",
              "      <td>1.416166</td>\n",
              "      <td>0.623636</td>\n",
              "      <td>...</td>\n",
              "      <td>1.358614</td>\n",
              "      <td>1.000538</td>\n",
              "      <td>0.032768</td>\n",
              "      <td>585.957173</td>\n",
              "      <td>14.783561</td>\n",
              "      <td>0.035620</td>\n",
              "      <td>26.690028</td>\n",
              "      <td>0.089721</td>\n",
              "      <td>45.091823</td>\n",
              "      <td>-0.335469</td>\n",
              "    </tr>\n",
              "    <tr>\n",
              "      <th>std</th>\n",
              "      <td>1.956601</td>\n",
              "      <td>1.898143</td>\n",
              "      <td>1313.237913</td>\n",
              "      <td>4.481433</td>\n",
              "      <td>13.747985</td>\n",
              "      <td>5.425827</td>\n",
              "      <td>6.217538</td>\n",
              "      <td>0.619560</td>\n",
              "      <td>6.799742</td>\n",
              "      <td>2.802664</td>\n",
              "      <td>...</td>\n",
              "      <td>3.564073</td>\n",
              "      <td>6.936090</td>\n",
              "      <td>0.262249</td>\n",
              "      <td>1746.068634</td>\n",
              "      <td>24.839508</td>\n",
              "      <td>0.288630</td>\n",
              "      <td>37.657436</td>\n",
              "      <td>0.582963</td>\n",
              "      <td>11.791725</td>\n",
              "      <td>0.085466</td>\n",
              "    </tr>\n",
              "    <tr>\n",
              "      <th>min</th>\n",
              "      <td>0.000000</td>\n",
              "      <td>0.000000</td>\n",
              "      <td>0.000000</td>\n",
              "      <td>0.000000</td>\n",
              "      <td>0.000000</td>\n",
              "      <td>0.000000</td>\n",
              "      <td>0.000000</td>\n",
              "      <td>0.000000</td>\n",
              "      <td>0.000000</td>\n",
              "      <td>0.000000</td>\n",
              "      <td>...</td>\n",
              "      <td>0.000000</td>\n",
              "      <td>0.000000</td>\n",
              "      <td>0.000000</td>\n",
              "      <td>0.000000</td>\n",
              "      <td>0.000000</td>\n",
              "      <td>0.000000</td>\n",
              "      <td>0.000000</td>\n",
              "      <td>0.000000</td>\n",
              "      <td>19.696515</td>\n",
              "      <td>-0.882000</td>\n",
              "    </tr>\n",
              "    <tr>\n",
              "      <th>25%</th>\n",
              "      <td>4.000000</td>\n",
              "      <td>0.000000</td>\n",
              "      <td>0.000000</td>\n",
              "      <td>0.000000</td>\n",
              "      <td>0.000000</td>\n",
              "      <td>0.000000</td>\n",
              "      <td>0.000000</td>\n",
              "      <td>0.000000</td>\n",
              "      <td>0.000000</td>\n",
              "      <td>0.000000</td>\n",
              "      <td>...</td>\n",
              "      <td>0.000000</td>\n",
              "      <td>0.000000</td>\n",
              "      <td>0.000000</td>\n",
              "      <td>0.000000</td>\n",
              "      <td>0.000000</td>\n",
              "      <td>0.000000</td>\n",
              "      <td>0.000000</td>\n",
              "      <td>0.000000</td>\n",
              "      <td>36.554656</td>\n",
              "      <td>-0.335469</td>\n",
              "    </tr>\n",
              "    <tr>\n",
              "      <th>50%</th>\n",
              "      <td>4.000000</td>\n",
              "      <td>0.000000</td>\n",
              "      <td>0.000000</td>\n",
              "      <td>0.000000</td>\n",
              "      <td>0.000000</td>\n",
              "      <td>0.000000</td>\n",
              "      <td>0.000000</td>\n",
              "      <td>0.000000</td>\n",
              "      <td>0.000000</td>\n",
              "      <td>0.000000</td>\n",
              "      <td>...</td>\n",
              "      <td>0.000000</td>\n",
              "      <td>0.000000</td>\n",
              "      <td>0.000000</td>\n",
              "      <td>0.000000</td>\n",
              "      <td>0.000000</td>\n",
              "      <td>0.000000</td>\n",
              "      <td>5.766258</td>\n",
              "      <td>0.000000</td>\n",
              "      <td>44.399056</td>\n",
              "      <td>-0.335469</td>\n",
              "    </tr>\n",
              "    <tr>\n",
              "      <th>75%</th>\n",
              "      <td>7.000000</td>\n",
              "      <td>0.000000</td>\n",
              "      <td>0.000000</td>\n",
              "      <td>0.000000</td>\n",
              "      <td>2.805982</td>\n",
              "      <td>0.000000</td>\n",
              "      <td>0.000000</td>\n",
              "      <td>0.000000</td>\n",
              "      <td>0.000000</td>\n",
              "      <td>0.000000</td>\n",
              "      <td>...</td>\n",
              "      <td>0.000000</td>\n",
              "      <td>0.000000</td>\n",
              "      <td>0.000000</td>\n",
              "      <td>0.000000</td>\n",
              "      <td>22.612581</td>\n",
              "      <td>0.000000</td>\n",
              "      <td>44.634642</td>\n",
              "      <td>0.000000</td>\n",
              "      <td>53.548223</td>\n",
              "      <td>-0.335469</td>\n",
              "    </tr>\n",
              "    <tr>\n",
              "      <th>max</th>\n",
              "      <td>9.000000</td>\n",
              "      <td>22.989107</td>\n",
              "      <td>13258.975000</td>\n",
              "      <td>40.768215</td>\n",
              "      <td>100.064450</td>\n",
              "      <td>50.669228</td>\n",
              "      <td>58.837770</td>\n",
              "      <td>8.174302</td>\n",
              "      <td>74.214874</td>\n",
              "      <td>27.555414</td>\n",
              "      <td>...</td>\n",
              "      <td>26.899849</td>\n",
              "      <td>116.023155</td>\n",
              "      <td>3.759387</td>\n",
              "      <td>12429.187000</td>\n",
              "      <td>161.267040</td>\n",
              "      <td>4.422004</td>\n",
              "      <td>199.366260</td>\n",
              "      <td>7.333979</td>\n",
              "      <td>82.541527</td>\n",
              "      <td>1.095000</td>\n",
              "    </tr>\n",
              "  </tbody>\n",
              "</table>\n",
              "<p>8 rows × 25 columns</p>\n",
              "</div>\n",
              "    <div class=\"colab-df-buttons\">\n",
              "\n",
              "  <div class=\"colab-df-container\">\n",
              "    <button class=\"colab-df-convert\" onclick=\"convertToInteractive('df-bbe7602f-389d-4bb0-954f-16db1e03b385')\"\n",
              "            title=\"Convert this dataframe to an interactive table.\"\n",
              "            style=\"display:none;\">\n",
              "\n",
              "  <svg xmlns=\"http://www.w3.org/2000/svg\" height=\"24px\" viewBox=\"0 -960 960 960\">\n",
              "    <path d=\"M120-120v-720h720v720H120Zm60-500h600v-160H180v160Zm220 220h160v-160H400v160Zm0 220h160v-160H400v160ZM180-400h160v-160H180v160Zm440 0h160v-160H620v160ZM180-180h160v-160H180v160Zm440 0h160v-160H620v160Z\"/>\n",
              "  </svg>\n",
              "    </button>\n",
              "\n",
              "  <style>\n",
              "    .colab-df-container {\n",
              "      display:flex;\n",
              "      gap: 12px;\n",
              "    }\n",
              "\n",
              "    .colab-df-convert {\n",
              "      background-color: #E8F0FE;\n",
              "      border: none;\n",
              "      border-radius: 50%;\n",
              "      cursor: pointer;\n",
              "      display: none;\n",
              "      fill: #1967D2;\n",
              "      height: 32px;\n",
              "      padding: 0 0 0 0;\n",
              "      width: 32px;\n",
              "    }\n",
              "\n",
              "    .colab-df-convert:hover {\n",
              "      background-color: #E2EBFA;\n",
              "      box-shadow: 0px 1px 2px rgba(60, 64, 67, 0.3), 0px 1px 3px 1px rgba(60, 64, 67, 0.15);\n",
              "      fill: #174EA6;\n",
              "    }\n",
              "\n",
              "    .colab-df-buttons div {\n",
              "      margin-bottom: 4px;\n",
              "    }\n",
              "\n",
              "    [theme=dark] .colab-df-convert {\n",
              "      background-color: #3B4455;\n",
              "      fill: #D2E3FC;\n",
              "    }\n",
              "\n",
              "    [theme=dark] .colab-df-convert:hover {\n",
              "      background-color: #434B5C;\n",
              "      box-shadow: 0px 1px 3px 1px rgba(0, 0, 0, 0.15);\n",
              "      filter: drop-shadow(0px 1px 2px rgba(0, 0, 0, 0.3));\n",
              "      fill: #FFFFFF;\n",
              "    }\n",
              "  </style>\n",
              "\n",
              "    <script>\n",
              "      const buttonEl =\n",
              "        document.querySelector('#df-bbe7602f-389d-4bb0-954f-16db1e03b385 button.colab-df-convert');\n",
              "      buttonEl.style.display =\n",
              "        google.colab.kernel.accessAllowed ? 'block' : 'none';\n",
              "\n",
              "      async function convertToInteractive(key) {\n",
              "        const element = document.querySelector('#df-bbe7602f-389d-4bb0-954f-16db1e03b385');\n",
              "        const dataTable =\n",
              "          await google.colab.kernel.invokeFunction('convertToInteractive',\n",
              "                                                    [key], {});\n",
              "        if (!dataTable) return;\n",
              "\n",
              "        const docLinkHtml = 'Like what you see? Visit the ' +\n",
              "          '<a target=\"_blank\" href=https://colab.research.google.com/notebooks/data_table.ipynb>data table notebook</a>'\n",
              "          + ' to learn more about interactive tables.';\n",
              "        element.innerHTML = '';\n",
              "        dataTable['output_type'] = 'display_data';\n",
              "        await google.colab.output.renderOutput(dataTable, element);\n",
              "        const docLink = document.createElement('div');\n",
              "        docLink.innerHTML = docLinkHtml;\n",
              "        element.appendChild(docLink);\n",
              "      }\n",
              "    </script>\n",
              "  </div>\n",
              "\n",
              "\n",
              "<div id=\"df-27344e07-d170-4eee-800f-a6e0f71621a6\">\n",
              "  <button class=\"colab-df-quickchart\" onclick=\"quickchart('df-27344e07-d170-4eee-800f-a6e0f71621a6')\"\n",
              "            title=\"Suggest charts.\"\n",
              "            style=\"display:none;\">\n",
              "\n",
              "<svg xmlns=\"http://www.w3.org/2000/svg\" height=\"24px\"viewBox=\"0 0 24 24\"\n",
              "     width=\"24px\">\n",
              "    <g>\n",
              "        <path d=\"M19 3H5c-1.1 0-2 .9-2 2v14c0 1.1.9 2 2 2h14c1.1 0 2-.9 2-2V5c0-1.1-.9-2-2-2zM9 17H7v-7h2v7zm4 0h-2V7h2v10zm4 0h-2v-4h2v4z\"/>\n",
              "    </g>\n",
              "</svg>\n",
              "  </button>\n",
              "\n",
              "<style>\n",
              "  .colab-df-quickchart {\n",
              "      --bg-color: #E8F0FE;\n",
              "      --fill-color: #1967D2;\n",
              "      --hover-bg-color: #E2EBFA;\n",
              "      --hover-fill-color: #174EA6;\n",
              "      --disabled-fill-color: #AAA;\n",
              "      --disabled-bg-color: #DDD;\n",
              "  }\n",
              "\n",
              "  [theme=dark] .colab-df-quickchart {\n",
              "      --bg-color: #3B4455;\n",
              "      --fill-color: #D2E3FC;\n",
              "      --hover-bg-color: #434B5C;\n",
              "      --hover-fill-color: #FFFFFF;\n",
              "      --disabled-bg-color: #3B4455;\n",
              "      --disabled-fill-color: #666;\n",
              "  }\n",
              "\n",
              "  .colab-df-quickchart {\n",
              "    background-color: var(--bg-color);\n",
              "    border: none;\n",
              "    border-radius: 50%;\n",
              "    cursor: pointer;\n",
              "    display: none;\n",
              "    fill: var(--fill-color);\n",
              "    height: 32px;\n",
              "    padding: 0;\n",
              "    width: 32px;\n",
              "  }\n",
              "\n",
              "  .colab-df-quickchart:hover {\n",
              "    background-color: var(--hover-bg-color);\n",
              "    box-shadow: 0 1px 2px rgba(60, 64, 67, 0.3), 0 1px 3px 1px rgba(60, 64, 67, 0.15);\n",
              "    fill: var(--button-hover-fill-color);\n",
              "  }\n",
              "\n",
              "  .colab-df-quickchart-complete:disabled,\n",
              "  .colab-df-quickchart-complete:disabled:hover {\n",
              "    background-color: var(--disabled-bg-color);\n",
              "    fill: var(--disabled-fill-color);\n",
              "    box-shadow: none;\n",
              "  }\n",
              "\n",
              "  .colab-df-spinner {\n",
              "    border: 2px solid var(--fill-color);\n",
              "    border-color: transparent;\n",
              "    border-bottom-color: var(--fill-color);\n",
              "    animation:\n",
              "      spin 1s steps(1) infinite;\n",
              "  }\n",
              "\n",
              "  @keyframes spin {\n",
              "    0% {\n",
              "      border-color: transparent;\n",
              "      border-bottom-color: var(--fill-color);\n",
              "      border-left-color: var(--fill-color);\n",
              "    }\n",
              "    20% {\n",
              "      border-color: transparent;\n",
              "      border-left-color: var(--fill-color);\n",
              "      border-top-color: var(--fill-color);\n",
              "    }\n",
              "    30% {\n",
              "      border-color: transparent;\n",
              "      border-left-color: var(--fill-color);\n",
              "      border-top-color: var(--fill-color);\n",
              "      border-right-color: var(--fill-color);\n",
              "    }\n",
              "    40% {\n",
              "      border-color: transparent;\n",
              "      border-right-color: var(--fill-color);\n",
              "      border-top-color: var(--fill-color);\n",
              "    }\n",
              "    60% {\n",
              "      border-color: transparent;\n",
              "      border-right-color: var(--fill-color);\n",
              "    }\n",
              "    80% {\n",
              "      border-color: transparent;\n",
              "      border-right-color: var(--fill-color);\n",
              "      border-bottom-color: var(--fill-color);\n",
              "    }\n",
              "    90% {\n",
              "      border-color: transparent;\n",
              "      border-bottom-color: var(--fill-color);\n",
              "    }\n",
              "  }\n",
              "</style>\n",
              "\n",
              "  <script>\n",
              "    async function quickchart(key) {\n",
              "      const quickchartButtonEl =\n",
              "        document.querySelector('#' + key + ' button');\n",
              "      quickchartButtonEl.disabled = true;  // To prevent multiple clicks.\n",
              "      quickchartButtonEl.classList.add('colab-df-spinner');\n",
              "      try {\n",
              "        const charts = await google.colab.kernel.invokeFunction(\n",
              "            'suggestCharts', [key], {});\n",
              "      } catch (error) {\n",
              "        console.error('Error during call to suggestCharts:', error);\n",
              "      }\n",
              "      quickchartButtonEl.classList.remove('colab-df-spinner');\n",
              "      quickchartButtonEl.classList.add('colab-df-quickchart-complete');\n",
              "    }\n",
              "    (() => {\n",
              "      let quickchartButtonEl =\n",
              "        document.querySelector('#df-27344e07-d170-4eee-800f-a6e0f71621a6 button');\n",
              "      quickchartButtonEl.style.display =\n",
              "        google.colab.kernel.accessAllowed ? 'block' : 'none';\n",
              "    })();\n",
              "  </script>\n",
              "</div>\n",
              "    </div>\n",
              "  </div>\n"
            ]
          },
          "metadata": {},
          "execution_count": 3
        }
      ],
      "source": [
        "df.describe()"
      ]
    },
    {
      "cell_type": "code",
      "execution_count": null,
      "metadata": {
        "colab": {
          "base_uri": "https://localhost:8080/"
        },
        "id": "YqauYJvrNMz7",
        "outputId": "9c092948-b62e-492a-e209-d46240c37c40"
      },
      "outputs": [
        {
          "output_type": "stream",
          "name": "stdout",
          "text": [
            "<class 'pandas.core.frame.DataFrame'>\n",
            "RangeIndex: 819 entries, 0 to 818\n",
            "Data columns (total 26 columns):\n",
            " #   Column           Non-Null Count  Dtype  \n",
            "---  ------           --------------  -----  \n",
            " 0   Image_Name       819 non-null    object \n",
            " 1   Predicted_Class  819 non-null    int64  \n",
            " 2   Feature_22       819 non-null    float64\n",
            " 3   Feature_56       819 non-null    float64\n",
            " 4   Feature_69       819 non-null    float64\n",
            " 5   Feature_102      819 non-null    float64\n",
            " 6   Feature_401      819 non-null    float64\n",
            " 7   Feature_750      819 non-null    float64\n",
            " 8   Feature_781      819 non-null    float64\n",
            " 9   Feature_823      819 non-null    float64\n",
            " 10  Feature_878      819 non-null    float64\n",
            " 11  Feature_922      819 non-null    float64\n",
            " 12  Feature_940      819 non-null    float64\n",
            " 13  Feature_1101     819 non-null    float64\n",
            " 14  Feature_1107     819 non-null    float64\n",
            " 15  Feature_1245     819 non-null    float64\n",
            " 16  Feature_1335     819 non-null    float64\n",
            " 17  Feature_1341     819 non-null    float64\n",
            " 18  Feature_1410     819 non-null    float64\n",
            " 19  Feature_1479     819 non-null    float64\n",
            " 20  Feature_1596     819 non-null    float64\n",
            " 21  Feature_1597     819 non-null    float64\n",
            " 22  Feature_1599     819 non-null    float64\n",
            " 23  Feature_1738     819 non-null    float64\n",
            " 24  lum              819 non-null    float64\n",
            " 25  Y_Label          819 non-null    float64\n",
            "dtypes: float64(24), int64(1), object(1)\n",
            "memory usage: 166.5+ KB\n"
          ]
        }
      ],
      "source": [
        "df.info()"
      ]
    },
    {
      "cell_type": "code",
      "execution_count": null,
      "metadata": {
        "id": "xel7E76-ItG3"
      },
      "outputs": [],
      "source": [
        "from sklearn.model_selection import train_test_split\n",
        "from sklearn.metrics import accuracy_score, classification_report\n",
        "from sklearn.metrics import r2_score, mean_absolute_error"
      ]
    },
    {
      "cell_type": "code",
      "execution_count": null,
      "metadata": {
        "id": "MipI47IeMwmH"
      },
      "outputs": [],
      "source": [
        "df = df.drop(columns='Image_Name')"
      ]
    },
    {
      "cell_type": "code",
      "execution_count": null,
      "metadata": {
        "colab": {
          "base_uri": "https://localhost:8080/"
        },
        "id": "bF1hhKlIODfc",
        "outputId": "d17851b3-109f-47b3-f514-9b10797826f0"
      },
      "outputs": [
        {
          "output_type": "execute_result",
          "data": {
            "text/plain": [
              "Index(['Predicted_Class', 'Feature_22', 'Feature_56', 'Feature_69',\n",
              "       'Feature_102', 'Feature_401', 'Feature_750', 'Feature_781',\n",
              "       'Feature_823', 'Feature_878', 'Feature_922', 'Feature_940',\n",
              "       'Feature_1101', 'Feature_1107', 'Feature_1245', 'Feature_1335',\n",
              "       'Feature_1341', 'Feature_1410', 'Feature_1479', 'Feature_1596',\n",
              "       'Feature_1597', 'Feature_1599', 'Feature_1738', 'lum', 'Y_Label'],\n",
              "      dtype='object')"
            ]
          },
          "metadata": {},
          "execution_count": 7
        }
      ],
      "source": [
        "df.columns"
      ]
    },
    {
      "cell_type": "code",
      "execution_count": null,
      "metadata": {
        "id": "tvi5nZAQI4T0"
      },
      "outputs": [],
      "source": [
        "target_column = 'Y_Label'"
      ]
    },
    {
      "cell_type": "code",
      "execution_count": null,
      "metadata": {
        "id": "czHDp_-FJKi0"
      },
      "outputs": [],
      "source": [
        "X = df.drop(columns=[target_column])\n",
        "y = df[target_column]"
      ]
    },
    {
      "cell_type": "code",
      "execution_count": null,
      "metadata": {
        "id": "KgZDvuMkJM7y"
      },
      "outputs": [],
      "source": [
        "X_train, X_test, y_train, y_test = train_test_split(X, y, test_size=0.2, random_state=42)"
      ]
    },
    {
      "cell_type": "code",
      "execution_count": null,
      "metadata": {
        "colab": {
          "base_uri": "https://localhost:8080/"
        },
        "id": "8TIbdgIYJZD4",
        "outputId": "b3ebca3a-5b4b-444d-b4da-acea62ba3865"
      },
      "outputs": [
        {
          "output_type": "stream",
          "name": "stdout",
          "text": [
            "R2 Score: -0.026554175403253444\n",
            "Mean Absolute Error (MAE): 0.026714005337606442\n"
          ]
        }
      ],
      "source": [
        "from sklearn.linear_model import LinearRegression\n",
        "lr = LinearRegression()\n",
        "lr.fit(X_train, y_train)\n",
        "y_lr_predict = lr.predict(X_test)\n",
        "\n",
        "from sklearn.metrics import r2_score, mean_absolute_error\n",
        "r2_lr = r2_score(y_test, y_lr_predict)\n",
        "print(f'R2 Score: {r2_lr}')\n",
        "mae_lr = mean_absolute_error(y_test, y_lr_predict)\n",
        "print(f'Mean Absolute Error (MAE): {mae_lr}')"
      ]
    },
    {
      "cell_type": "code",
      "execution_count": null,
      "metadata": {
        "colab": {
          "base_uri": "https://localhost:8080/"
        },
        "id": "hOfWv2bAxsq3",
        "outputId": "2e0189cb-ae22-44dc-c85b-f3a0d710951b"
      },
      "outputs": [
        {
          "output_type": "stream",
          "name": "stdout",
          "text": [
            "1000000000000000000\n",
            "R2 Score: -0.013539355444796453\n",
            "Mean Absolute Error (MAE): 0.019427451278700228\n"
          ]
        }
      ],
      "source": [
        "from sklearn.linear_model import Ridge\n",
        "from sklearn.model_selection import GridSearchCV\n",
        "model2 = Ridge()\n",
        "alphas = [1000000000,100000000000,10000000000000000,1000000000000000000]\n",
        "param_grid = {'alpha': alphas}\n",
        "grid_search = GridSearchCV(model2, param_grid, cv=5)\n",
        "grid_search.fit(X_train, y_train)\n",
        "best_alpha = grid_search.best_params_['alpha']\n",
        "print(best_alpha)\n",
        "rid = Ridge(alpha=best_alpha)\n",
        "rid.fit(X_train, y_train)\n",
        "y_rid_predict = rid.predict(X_test)\n",
        "r2_rid = r2_score(y_test, y_rid_predict)\n",
        "print(f'R2 Score: {r2_rid}')\n",
        "mae_rid = mean_absolute_error(y_test, y_rid_predict)\n",
        "print(f'Mean Absolute Error (MAE): {mae_rid}')"
      ]
    },
    {
      "cell_type": "code",
      "execution_count": null,
      "metadata": {
        "colab": {
          "base_uri": "https://localhost:8080/"
        },
        "id": "151mPrdfMl5k",
        "outputId": "4d9c326b-0762-4c4e-c0a1-1d6094a44ef8"
      },
      "outputs": [
        {
          "output_type": "stream",
          "name": "stdout",
          "text": [
            "R2 Score: -0.1360114021136687\n",
            "Mean Absolute Error (MAE): 0.02664862742658062\n"
          ]
        }
      ],
      "source": [
        "from sklearn.ensemble import RandomForestRegressor\n",
        "rfc = RandomForestRegressor()\n",
        "rfc.fit(X_train, y_train)\n",
        "y_rfc_predict = rfc.predict(X_test)\n",
        "\n",
        "r2_rfc = r2_score(y_test, y_rfc_predict)\n",
        "print(f'R2 Score: {r2_rfc}')\n",
        "mae_rfc = mean_absolute_error(y_test, y_rfc_predict)\n",
        "print(f'Mean Absolute Error (MAE): {mae_rfc}')"
      ]
    },
    {
      "cell_type": "code",
      "execution_count": null,
      "metadata": {
        "colab": {
          "base_uri": "https://localhost:8080/"
        },
        "id": "rdOnJ8hVQlls",
        "outputId": "551c1e89-9233-4a04-a8ce-40bdb2521695"
      },
      "outputs": [
        {
          "output_type": "stream",
          "name": "stdout",
          "text": [
            "R2 Score: -0.8064965660909129\n",
            "Mean Absolute Error (MAE): 0.10847469352878071\n"
          ]
        }
      ],
      "source": [
        "from sklearn.svm import SVR\n",
        "svr = SVR()\n",
        "svr.fit(X_train, y_train)\n",
        "y_svr_predict = svr.predict(X_test)\n",
        "\n",
        "r2_svr = r2_score(y_test, y_svr_predict)\n",
        "print(f'R2 Score: {r2_svr}')\n",
        "mae_svr = mean_absolute_error(y_test, y_svr_predict)\n",
        "print(f'Mean Absolute Error (MAE): {mae_svr}')"
      ]
    },
    {
      "cell_type": "code",
      "execution_count": null,
      "metadata": {
        "id": "DYnxp8k2TUCE"
      },
      "outputs": [],
      "source": [
        "import matplotlib.pyplot as plt\n",
        "import seaborn as sns\n",
        "%matplotlib inline"
      ]
    },
    {
      "cell_type": "code",
      "execution_count": null,
      "metadata": {
        "colab": {
          "base_uri": "https://localhost:8080/",
          "height": 573
        },
        "id": "mVXjhiDVSHiv",
        "outputId": "70ef1d21-2662-4e9f-96eb-985b6b9f2ab2"
      },
      "outputs": [
        {
          "output_type": "display_data",
          "data": {
            "text/plain": [
              "<Figure size 1000x600 with 1 Axes>"
            ],
            "image/png": "[encoded data removed]"
          },
          "metadata": {}
        }
      ],
      "source": [
        "Model_Names=['LinearRegression','Ridge','RandomForestRegressor','SVR']\n",
        "MAE = [0.0267,0.0194,0.0271,0.1085]\n",
        "data = {'Model':Model_Names,'MAE':MAE}\n",
        "df2 = pd.DataFrame(data)\n",
        "sns.set(style=\"darkgrid\")\n",
        "plt.figure(figsize=(10, 6))\n",
        "sns.barplot(x='Model', y='MAE', data=df2, palette='viridis')\n",
        "plt.ylim([0, 0.2])\n",
        "plt.xlabel('Models')\n",
        "plt.ylabel('MAE')\n",
        "plt.title('Comparison of MAE for Different Models')\n",
        "plt.show()"
      ]
    },
    {
      "cell_type": "code",
      "execution_count": null,
      "metadata": {
        "colab": {
          "base_uri": "https://localhost:8080/",
          "height": 573
        },
        "id": "OB5cv8XoTp2F",
        "outputId": "dacc750c-7952-4fc3-aa64-1b93587e4f85"
      },
      "outputs": [
        {
          "output_type": "display_data",
          "data": {
            "text/plain": [
              "<Figure size 1000x600 with 1 Axes>"
            ],
            "image/png": "[encoded data removed]"
          },
          "metadata": {}
        }
      ],
      "source": [
        "R2 = [-0.0266,-0.0135,-0.1828,-0.8065]\n",
        "data = {'Model':Model_Names,'R2':R2}\n",
        "df3 = pd.DataFrame(data)\n",
        "sns.set(style=\"darkgrid\")\n",
        "plt.figure(figsize=(10, 6))\n",
        "sns.barplot(x='Model', y='R2', data=df3, palette='viridis')\n",
        "plt.ylim([-1,0])\n",
        "plt.xlabel('Models')\n",
        "plt.ylabel('R2')\n",
        "plt.title('Comparison of R2 for Different Models')\n",
        "plt.show()"
      ]
    },
    {
      "cell_type": "code",
      "execution_count": null,
      "metadata": {
        "id": "rGQsmY2ITVDC"
      },
      "outputs": [],
      "source": []
    }
  ],
  "metadata": {
    "accelerator": "GPU",
    "colab": {
      "provenance": []
    },
    "kernelspec": {
      "display_name": "Python 3",
      "name": "python3"
    },
    "language_info": {
      "name": "python"
    }
  },
  "nbformat": 4,
  "nbformat_minor": 0
}